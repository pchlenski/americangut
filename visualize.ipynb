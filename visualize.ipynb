{
 "cells": [
  {
   "cell_type": "code",
   "execution_count": 14,
   "metadata": {},
   "outputs": [
    {
     "name": "stdout",
     "output_type": "stream",
     "text": [
      "Requirement already satisfied: plotly in /home/phil/mambaforge/envs/americangut/lib/python3.11/site-packages (5.15.0)\n",
      "Requirement already satisfied: tenacity>=6.2.0 in /home/phil/mambaforge/envs/americangut/lib/python3.11/site-packages (from plotly) (8.2.2)\n",
      "Requirement already satisfied: packaging in /home/phil/mambaforge/envs/americangut/lib/python3.11/site-packages (from plotly) (23.0)\n",
      "Requirement already satisfied: ipywidgets in /home/phil/mambaforge/envs/americangut/lib/python3.11/site-packages (8.0.4)\n",
      "Requirement already satisfied: ipykernel>=4.5.1 in /home/phil/mambaforge/envs/americangut/lib/python3.11/site-packages (from ipywidgets) (6.19.2)\n",
      "Requirement already satisfied: ipython>=6.1.0 in /home/phil/mambaforge/envs/americangut/lib/python3.11/site-packages (from ipywidgets) (8.12.0)\n",
      "Requirement already satisfied: traitlets>=4.3.1 in /home/phil/mambaforge/envs/americangut/lib/python3.11/site-packages (from ipywidgets) (5.7.1)\n",
      "Requirement already satisfied: widgetsnbextension~=4.0 in /home/phil/mambaforge/envs/americangut/lib/python3.11/site-packages (from ipywidgets) (4.0.5)\n",
      "Requirement already satisfied: jupyterlab-widgets~=3.0 in /home/phil/mambaforge/envs/americangut/lib/python3.11/site-packages (from ipywidgets) (3.0.5)\n",
      "Requirement already satisfied: comm>=0.1.1 in /home/phil/mambaforge/envs/americangut/lib/python3.11/site-packages (from ipykernel>=4.5.1->ipywidgets) (0.1.2)\n",
      "Requirement already satisfied: debugpy>=1.0 in /home/phil/mambaforge/envs/americangut/lib/python3.11/site-packages (from ipykernel>=4.5.1->ipywidgets) (1.5.1)\n",
      "Requirement already satisfied: jupyter-client>=6.1.12 in /home/phil/mambaforge/envs/americangut/lib/python3.11/site-packages (from ipykernel>=4.5.1->ipywidgets) (8.1.0)\n",
      "Requirement already satisfied: matplotlib-inline>=0.1 in /home/phil/mambaforge/envs/americangut/lib/python3.11/site-packages (from ipykernel>=4.5.1->ipywidgets) (0.1.6)\n",
      "Requirement already satisfied: nest-asyncio in /home/phil/mambaforge/envs/americangut/lib/python3.11/site-packages (from ipykernel>=4.5.1->ipywidgets) (1.5.6)\n",
      "Requirement already satisfied: packaging in /home/phil/mambaforge/envs/americangut/lib/python3.11/site-packages (from ipykernel>=4.5.1->ipywidgets) (23.0)\n",
      "Requirement already satisfied: psutil in /home/phil/mambaforge/envs/americangut/lib/python3.11/site-packages (from ipykernel>=4.5.1->ipywidgets) (5.9.0)\n",
      "Requirement already satisfied: pyzmq>=17 in /home/phil/mambaforge/envs/americangut/lib/python3.11/site-packages (from ipykernel>=4.5.1->ipywidgets) (25.1.0)\n",
      "Requirement already satisfied: tornado>=6.1 in /home/phil/mambaforge/envs/americangut/lib/python3.11/site-packages (from ipykernel>=4.5.1->ipywidgets) (6.2)\n",
      "Requirement already satisfied: backcall in /home/phil/mambaforge/envs/americangut/lib/python3.11/site-packages (from ipython>=6.1.0->ipywidgets) (0.2.0)\n",
      "Requirement already satisfied: decorator in /home/phil/mambaforge/envs/americangut/lib/python3.11/site-packages (from ipython>=6.1.0->ipywidgets) (5.1.1)\n",
      "Requirement already satisfied: jedi>=0.16 in /home/phil/mambaforge/envs/americangut/lib/python3.11/site-packages (from ipython>=6.1.0->ipywidgets) (0.18.1)\n",
      "Requirement already satisfied: pickleshare in /home/phil/mambaforge/envs/americangut/lib/python3.11/site-packages (from ipython>=6.1.0->ipywidgets) (0.7.5)\n",
      "Requirement already satisfied: prompt-toolkit!=3.0.37,<3.1.0,>=3.0.30 in /home/phil/mambaforge/envs/americangut/lib/python3.11/site-packages (from ipython>=6.1.0->ipywidgets) (3.0.36)\n",
      "Requirement already satisfied: pygments>=2.4.0 in /home/phil/mambaforge/envs/americangut/lib/python3.11/site-packages (from ipython>=6.1.0->ipywidgets) (2.15.1)\n",
      "Requirement already satisfied: stack-data in /home/phil/mambaforge/envs/americangut/lib/python3.11/site-packages (from ipython>=6.1.0->ipywidgets) (0.2.0)\n",
      "Requirement already satisfied: pexpect>4.3 in /home/phil/mambaforge/envs/americangut/lib/python3.11/site-packages (from ipython>=6.1.0->ipywidgets) (4.8.0)\n",
      "Requirement already satisfied: parso<0.9.0,>=0.8.0 in /home/phil/mambaforge/envs/americangut/lib/python3.11/site-packages (from jedi>=0.16->ipython>=6.1.0->ipywidgets) (0.8.3)\n",
      "Requirement already satisfied: jupyter-core!=5.0.*,>=4.12 in /home/phil/mambaforge/envs/americangut/lib/python3.11/site-packages (from jupyter-client>=6.1.12->ipykernel>=4.5.1->ipywidgets) (5.3.0)\n",
      "Requirement already satisfied: python-dateutil>=2.8.2 in /home/phil/mambaforge/envs/americangut/lib/python3.11/site-packages (from jupyter-client>=6.1.12->ipykernel>=4.5.1->ipywidgets) (2.8.2)\n",
      "Requirement already satisfied: ptyprocess>=0.5 in /home/phil/mambaforge/envs/americangut/lib/python3.11/site-packages (from pexpect>4.3->ipython>=6.1.0->ipywidgets) (0.7.0)\n",
      "Requirement already satisfied: wcwidth in /home/phil/mambaforge/envs/americangut/lib/python3.11/site-packages (from prompt-toolkit!=3.0.37,<3.1.0,>=3.0.30->ipython>=6.1.0->ipywidgets) (0.2.5)\n",
      "Requirement already satisfied: executing in /home/phil/mambaforge/envs/americangut/lib/python3.11/site-packages (from stack-data->ipython>=6.1.0->ipywidgets) (0.8.3)\n",
      "Requirement already satisfied: asttokens in /home/phil/mambaforge/envs/americangut/lib/python3.11/site-packages (from stack-data->ipython>=6.1.0->ipywidgets) (2.0.5)\n",
      "Requirement already satisfied: pure-eval in /home/phil/mambaforge/envs/americangut/lib/python3.11/site-packages (from stack-data->ipython>=6.1.0->ipywidgets) (0.2.2)\n",
      "Requirement already satisfied: platformdirs>=2.5 in /home/phil/mambaforge/envs/americangut/lib/python3.11/site-packages (from jupyter-core!=5.0.*,>=4.12->jupyter-client>=6.1.12->ipykernel>=4.5.1->ipywidgets) (2.5.2)\n",
      "Requirement already satisfied: six>=1.5 in /home/phil/mambaforge/envs/americangut/lib/python3.11/site-packages (from python-dateutil>=2.8.2->jupyter-client>=6.1.12->ipykernel>=4.5.1->ipywidgets) (1.16.0)\n"
     ]
    }
   ],
   "source": [
    "!pip install plotly\n",
    "!pip install ipywidgets"
   ]
  },
  {
   "cell_type": "code",
   "execution_count": 2,
   "metadata": {},
   "outputs": [
    {
     "data": {
      "text/html": [
       "        <script type=\"text/javascript\">\n",
       "        window.PlotlyConfig = {MathJaxConfig: 'local'};\n",
       "        if (window.MathJax && window.MathJax.Hub && window.MathJax.Hub.Config) {window.MathJax.Hub.Config({SVG: {font: \"STIX-Web\"}});}\n",
       "        if (typeof require !== 'undefined') {\n",
       "        require.undef(\"plotly\");\n",
       "        requirejs.config({\n",
       "            paths: {\n",
       "                'plotly': ['https://cdn.plot.ly/plotly-2.24.1.min']\n",
       "            }\n",
       "        });\n",
       "        require(['plotly'], function(Plotly) {\n",
       "            window._Plotly = Plotly;\n",
       "        });\n",
       "        }\n",
       "        </script>\n",
       "        "
      ]
     },
     "metadata": {},
     "output_type": "display_data"
    }
   ],
   "source": [
    "import plotly\n",
    "import anndata\n",
    "\n",
    "import pandas as pd\n",
    "import plotly.graph_objects as go\n",
    "import ipywidgets as widgets\n",
    "from IPython.display import display\n",
    "import numpy as np\n",
    "\n",
    "plotly.offline.init_notebook_mode(connected=True)\n"
   ]
  },
  {
   "cell_type": "code",
   "execution_count": 3,
   "metadata": {},
   "outputs": [],
   "source": [
    "# adata = anndata.read_h5ad(\"data/big_table_with_embeddings_1000.h5ad\")\n",
    "adata = anndata.read_h5ad(\"data/big_table_with_embeddings_full.h5ad\")\n"
   ]
  },
  {
   "cell_type": "code",
   "execution_count": 8,
   "metadata": {},
   "outputs": [],
   "source": [
    "nan_vals = [np.nan, np.inf, -np.inf, \"nan\", \"n/a\", \"na\"]\n"
   ]
  },
  {
   "cell_type": "code",
   "execution_count": 9,
   "metadata": {},
   "outputs": [],
   "source": [
    "# Add F:B ratio\n",
    "\n",
    "f_cols = adata.var[adata.var[\"taxonomy_1\"] == \"p__Firmicutes\"].index\n",
    "b_cols = adata.var[adata.var[\"taxonomy_1\"] == \"p__Bacteroidetes\"].index\n",
    "\n",
    "f_vals = adata[:, f_cols].X.sum(axis=1)\n",
    "b_vals = adata[:, b_cols].X.sum(axis=1) + 1e-6\n",
    "\n",
    "fb_ratio = f_vals / b_vals\n",
    "adata.obs[\"fb_ratio\"] = np.clip(fb_ratio, 0, 10)\n"
   ]
  },
  {
   "cell_type": "code",
   "execution_count": 16,
   "metadata": {},
   "outputs": [
    {
     "data": {
      "application/vnd.jupyter.widget-view+json": {
       "model_id": "94a3899b92d7477a8ba03386606d4bb3",
       "version_major": 2,
       "version_minor": 0
      },
      "text/plain": [
       "VBox(children=(VBox(children=(Dropdown(description='Embedding:', options=('e2', 'h2', 'pca2'), value='e2'), Dr…"
      ]
     },
     "metadata": {},
     "output_type": "display_data"
    }
   ],
   "source": [
    "import plotly.express as px\n",
    "from ipywidgets.embed import embed_minimal_html\n",
    "\n",
    "obsm_matrices = list(adata.obsm.keys())\n",
    "metadata_vars = list(adata.obs.keys())\n",
    "\n",
    "# Create two blank figures, one for NaN values and one for regular data\n",
    "# This has colorbar set to None so that it doesn't show up\n",
    "pdisk = go.Scattergl(\n",
    "    x=[],\n",
    "    y=[],\n",
    "    mode=\"lines\",\n",
    "    line=dict(color=\"black\"),\n",
    "    name=\"Poincare disk boundary\",\n",
    ")\n",
    "scatter_nan = go.Scattergl(\n",
    "    x=[],\n",
    "    y=[],\n",
    "    mode=\"markers\",\n",
    "    text=[],\n",
    "    marker=dict(color=\"gray\", colorbar=None, size=4),\n",
    "    name=\"NaN values\",\n",
    ")\n",
    "scatter = go.Scattergl(\n",
    "    x=[],\n",
    "    y=[],\n",
    "    mode=\"markers\",\n",
    "    text=[],\n",
    "    marker=dict(color=[], colorscale=\"Plasma\", size=4, colorbar=dict(title=\"\")),\n",
    "    name=\"Valid values\",\n",
    ")\n",
    "\n",
    "fig = go.FigureWidget(\n",
    "    data=[scatter_nan, scatter, pdisk],\n",
    "    layout=go.Layout(\n",
    "        title=dict(text=\"Plotting Embeddings\"),\n",
    "        xaxis=dict(title=\"X\"),\n",
    "        yaxis=dict(title=\"Y\"),\n",
    "        hovermode=\"closest\",\n",
    "        # Move legend to bottom right\n",
    "        legend=dict(x=1.1, y=0.5, bgcolor=\"rgba(0,0,0,0)\"),\n",
    "        autosize=False,\n",
    "        width=1000,\n",
    "        height=1000,\n",
    "    ),\n",
    ")\n",
    "\n",
    "# Create widgets: select embedding and metadata, click plot\n",
    "embed_dropdown = widgets.Dropdown(\n",
    "    options=obsm_matrices, value=obsm_matrices[0], description=\"Embedding:\"\n",
    ")\n",
    "metadata_dropdown = widgets.Dropdown(\n",
    "    options=metadata_vars, value=metadata_vars[0], description=\"Metadata:\"\n",
    ")\n",
    "plot_button = widgets.Button(description=\"Plot\")\n",
    "\n",
    "# Function to find nans in metadata\n",
    "def find_nans(col):\n",
    "    mask1 = col.isin(nan_vals)\n",
    "    mask2 = col.isnull()\n",
    "    return mask1 | mask2\n",
    "\n",
    "\n",
    "# For Poincare disk\n",
    "t = np.linspace(0, 2 * np.pi, 100)\n",
    "circle_x = np.cos(t)\n",
    "circle_y = np.sin(t)\n",
    "\n",
    "# Update function: change embeddings, color, text\n",
    "def plot_on_click(b):\n",
    "    embedding = embed_dropdown.value\n",
    "    x = adata.obsm[embedding][:, 0]\n",
    "    y = adata.obsm[embedding][:, 1]\n",
    "    if embedding == \"h2\":\n",
    "        fig.data[2].x = circle_x\n",
    "        fig.data[2].y = circle_y\n",
    "    else:\n",
    "        fig.data[2].x = []\n",
    "        fig.data[2].y = []\n",
    "\n",
    "    # Add color based on metadata\n",
    "    metadata = metadata_dropdown.value\n",
    "    col = adata.obs[metadata]\n",
    "    if adata.obs[metadata].dtype.name == \"category\":\n",
    "        col = col.str.lower()\n",
    "        col = col.astype(\"category\")\n",
    "        color = col.cat.codes.copy()\n",
    "    else:\n",
    "        color = col.copy()\n",
    "\n",
    "    nan_mask = find_nans(col)\n",
    "    fig.data[0].x = x[nan_mask]\n",
    "    fig.data[0].y = y[nan_mask]\n",
    "    fig.data[1].marker.color = color[~nan_mask]\n",
    "    fig.data[1].marker.colorbar.title = metadata\n",
    "    fig.data[1].marker.colorbar.titleside = \"top\"\n",
    "    fig.data[1].x = x[~nan_mask]\n",
    "    fig.data[1].y = y[~nan_mask]\n",
    "\n",
    "    # Update text to include metadata\n",
    "    fig.data[0].text = [\n",
    "        f\"Index: {i}<br>{metadata}: {j}\"\n",
    "        for i, j in zip(adata.obs.index[nan_mask], col[nan_mask])\n",
    "    ]\n",
    "    fig.data[1].text = [\n",
    "        f\"Index: {i}<br>{metadata}: {j}\"\n",
    "        for i, j in zip(adata.obs.index[~nan_mask], col[~nan_mask])\n",
    "    ]\n",
    "\n",
    "\n",
    "plot_button.on_click(plot_on_click)\n",
    "\n",
    "vbox = widgets.VBox([embed_dropdown, metadata_dropdown, plot_button])\n",
    "vbox_all = widgets.VBox([vbox, fig])\n",
    "display(vbox_all)\n",
    "\n",
    "# Save plot\n",
    "# embed_minimal_html(\"plot.html\", views=[vbox_all], title=\"Mixture embeddings AGP\")"
   ]
  },
  {
   "cell_type": "code",
   "execution_count": null,
   "metadata": {},
   "outputs": [],
   "source": []
  }
 ],
 "metadata": {
  "kernelspec": {
   "display_name": "americangut",
   "language": "python",
   "name": "python3"
  },
  "language_info": {
   "codemirror_mode": {
    "name": "ipython",
    "version": 3
   },
   "file_extension": ".py",
   "mimetype": "text/x-python",
   "name": "python",
   "nbconvert_exporter": "python",
   "pygments_lexer": "ipython3",
   "version": "3.11.3"
  },
  "orig_nbformat": 4
 },
 "nbformat": 4,
 "nbformat_minor": 2
}
