{
 "cells": [
  {
   "cell_type": "code",
   "execution_count": 1,
   "metadata": {},
   "outputs": [
    {
     "name": "stdout",
     "output_type": "stream",
     "text": [
      "Requirement already satisfied: plotly in /home/phil/mambaforge/envs/americangut/lib/python3.11/site-packages (5.15.0)\n",
      "Requirement already satisfied: tenacity>=6.2.0 in /home/phil/mambaforge/envs/americangut/lib/python3.11/site-packages (from plotly) (8.2.2)\n",
      "Requirement already satisfied: packaging in /home/phil/mambaforge/envs/americangut/lib/python3.11/site-packages (from plotly) (23.0)\n"
     ]
    }
   ],
   "source": [
    "!pip install plotly"
   ]
  },
  {
   "cell_type": "code",
   "execution_count": 2,
   "metadata": {},
   "outputs": [
    {
     "data": {
      "text/html": [
       "        <script type=\"text/javascript\">\n",
       "        window.PlotlyConfig = {MathJaxConfig: 'local'};\n",
       "        if (window.MathJax && window.MathJax.Hub && window.MathJax.Hub.Config) {window.MathJax.Hub.Config({SVG: {font: \"STIX-Web\"}});}\n",
       "        if (typeof require !== 'undefined') {\n",
       "        require.undef(\"plotly\");\n",
       "        requirejs.config({\n",
       "            paths: {\n",
       "                'plotly': ['https://cdn.plot.ly/plotly-2.24.1.min']\n",
       "            }\n",
       "        });\n",
       "        require(['plotly'], function(Plotly) {\n",
       "            window._Plotly = Plotly;\n",
       "        });\n",
       "        }\n",
       "        </script>\n",
       "        "
      ]
     },
     "metadata": {},
     "output_type": "display_data"
    }
   ],
   "source": [
    "import plotly\n",
    "import anndata\n",
    "\n",
    "import pandas as pd\n",
    "import plotly.graph_objects as go\n",
    "import ipywidgets as widgets\n",
    "from IPython.display import display\n",
    "import numpy as np\n",
    "\n",
    "plotly.offline.init_notebook_mode(connected=True)\n"
   ]
  },
  {
   "cell_type": "code",
   "execution_count": 13,
   "metadata": {},
   "outputs": [],
   "source": [
    "# adata = anndata.read_h5ad(\"data/big_table_with_embeddings_1000.h5ad\")\n",
    "adata = anndata.read_h5ad(\"data/big_table_with_embeddings_full.h5ad\")\n"
   ]
  },
  {
   "cell_type": "code",
   "execution_count": 4,
   "metadata": {},
   "outputs": [],
   "source": [
    "nan_vals = [\n",
    "    np.nan,\n",
    "    np.inf,\n",
    "    -np.inf,\n",
    "    \"nan\",\n",
    "    \"N/A\",\n",
    "    \"n/a\",\n",
    "    \"NA\",\n",
    "    \"na\",\n",
    "    \"NaN\",\n",
    "    \"NAN\",\n",
    "]\n"
   ]
  },
  {
   "cell_type": "code",
   "execution_count": 16,
   "metadata": {},
   "outputs": [
    {
     "data": {
      "application/vnd.jupyter.widget-view+json": {
       "model_id": "5dead23d33f84524a80bb177218a4b4e",
       "version_major": 2,
       "version_minor": 0
      },
      "text/plain": [
       "VBox(children=(Dropdown(description='Embedding:', options=('e2', 'h2', 'pca2'), value='e2'), Dropdown(descript…"
      ]
     },
     "metadata": {},
     "output_type": "display_data"
    },
    {
     "data": {
      "application/vnd.jupyter.widget-view+json": {
       "model_id": "93b0ecc69bd541be81168d878fd23c00",
       "version_major": 2,
       "version_minor": 0
      },
      "text/plain": [
       "FigureWidget({\n",
       "    'data': [{'marker': {'color': 'gray', 'size': 4},\n",
       "              'mode': 'markers',\n",
       "              'name': 'NaN values',\n",
       "              'text': [],\n",
       "              'type': 'scattergl',\n",
       "              'uid': '7f03e758-37ab-4cf1-a865-47c7708fc50e',\n",
       "              'x': [],\n",
       "              'y': []},\n",
       "             {'marker': {'color': [],\n",
       "                         'colorbar': {'title': {'text': ''}},\n",
       "                         'colorscale': [[0.0, '#0d0887'], [0.1111111111111111,\n",
       "                                        '#46039f'], [0.2222222222222222,\n",
       "                                        '#7201a8'], [0.3333333333333333,\n",
       "                                        '#9c179e'], [0.4444444444444444,\n",
       "                                        '#bd3786'], [0.5555555555555556,\n",
       "                                        '#d8576b'], [0.6666666666666666,\n",
       "                                        '#ed7953'], [0.7777777777777778,\n",
       "                                        '#fb9f3a'], [0.8888888888888888,\n",
       "                                        '#fdca26'], [1.0, '#f0f921']],\n",
       "                         'size': 4},\n",
       "              'mode': 'markers',\n",
       "              'name': 'Valid values',\n",
       "              'text': [],\n",
       "              'type': 'scattergl',\n",
       "              'uid': '521126ec-a71d-4e08-bf46-99b76d542f26',\n",
       "              'x': [],\n",
       "              'y': []},\n",
       "             {'line': {'color': 'black'},\n",
       "              'mode': 'lines',\n",
       "              'name': 'Poincare disk boundary',\n",
       "              'type': 'scattergl',\n",
       "              'uid': '749fd81c-4b3a-48d7-ac5f-6b671930e51d',\n",
       "              'x': [],\n",
       "              'y': []}],\n",
       "    'layout': {'autosize': False,\n",
       "               'height': 1000,\n",
       "               'hovermode': 'closest',\n",
       "               'legend': {'bgcolor': 'rgba(0,0,0,0)', 'x': 1.1, 'y': 0.5},\n",
       "               'template': '...',\n",
       "               'title': {'text': 'Plotting Embeddings'},\n",
       "               'width': 1000,\n",
       "               'xaxis': {'title': {'text': 'X'}},\n",
       "               'yaxis': {'title': {'text': 'Y'}}}\n",
       "})"
      ]
     },
     "metadata": {},
     "output_type": "display_data"
    }
   ],
   "source": [
    "import plotly.express as px\n",
    "\n",
    "obsm_matrices = list(adata.obsm.keys())\n",
    "metadata_vars = list(adata.obs.keys())\n",
    "\n",
    "# Create two blank figures, one for NaN values and one for regular data\n",
    "# This has colorbar set to None so that it doesn't show up\n",
    "pdisk = go.Scattergl(\n",
    "    x=[],\n",
    "    y=[],\n",
    "    mode=\"lines\",\n",
    "    line=dict(color=\"black\"),\n",
    "    name=\"Poincare disk boundary\",\n",
    ")\n",
    "scatter_nan = go.Scattergl(\n",
    "    x=[],\n",
    "    y=[],\n",
    "    mode=\"markers\",\n",
    "    text=[],\n",
    "    marker=dict(color=\"gray\", colorbar=None, size=4),\n",
    "    name=\"NaN values\",\n",
    ")\n",
    "scatter = go.Scattergl(\n",
    "    x=[],\n",
    "    y=[],\n",
    "    mode=\"markers\",\n",
    "    text=[],\n",
    "    marker=dict(color=[], colorscale=\"Plasma\", size=4, colorbar=dict(title=\"\")),\n",
    "    name=\"Valid values\",\n",
    ")\n",
    "\n",
    "fig = go.FigureWidget(\n",
    "    data=[scatter_nan, scatter, pdisk],\n",
    "    layout=go.Layout(\n",
    "        title=dict(text=\"Plotting Embeddings\"),\n",
    "        xaxis=dict(title=\"X\"),\n",
    "        yaxis=dict(title=\"Y\"),\n",
    "        hovermode=\"closest\",\n",
    "        # Move legend to bottom right\n",
    "        legend=dict(x=1.1, y=0.5, bgcolor=\"rgba(0,0,0,0)\"),\n",
    "        autosize=False,\n",
    "        width=1000,\n",
    "        height=1000,\n",
    "    ),\n",
    ")\n",
    "\n",
    "# Create widgets: select embedding and metadata, click plot\n",
    "embed_dropdown = widgets.Dropdown(\n",
    "    options=obsm_matrices, value=obsm_matrices[0], description=\"Embedding:\"\n",
    ")\n",
    "metadata_dropdown = widgets.Dropdown(\n",
    "    options=metadata_vars, value=metadata_vars[0], description=\"Metadata:\"\n",
    ")\n",
    "plot_button = widgets.Button(description=\"Plot\")\n",
    "\n",
    "# Function to find nans in metadata\n",
    "def find_nans(col):\n",
    "    mask1 = col.isin(nan_vals)\n",
    "    mask2 = col.isnull()\n",
    "    return mask1 | mask2\n",
    "\n",
    "\n",
    "# For Poincare disk\n",
    "t = np.linspace(0, 2 * np.pi, 100)\n",
    "circle_x = np.cos(t)\n",
    "circle_y = np.sin(t)\n",
    "\n",
    "# Update function: change embeddings, color, text\n",
    "def plot_on_click(b):\n",
    "    embedding = embed_dropdown.value\n",
    "    x = adata.obsm[embedding][:, 0]\n",
    "    y = adata.obsm[embedding][:, 1]\n",
    "    if embedding == \"h2\":\n",
    "        fig.data[2].x = circle_x\n",
    "        fig.data[2].y = circle_y\n",
    "    else:\n",
    "        fig.data[2].x = []\n",
    "        fig.data[2].y = []\n",
    "\n",
    "    # Add color based on metadata\n",
    "    metadata = metadata_dropdown.value\n",
    "    col = adata.obs[metadata]\n",
    "    if adata.obs[metadata].dtype.name == \"category\":\n",
    "        col = col.str.lower()\n",
    "        col = col.astype(\"category\")\n",
    "        color = col.cat.codes.copy()\n",
    "    else:\n",
    "        color = col.copy()\n",
    "\n",
    "    nan_mask = find_nans(col)\n",
    "    fig.data[0].x = x[nan_mask]\n",
    "    fig.data[0].y = y[nan_mask]\n",
    "    fig.data[1].marker.color = color[~nan_mask]\n",
    "    fig.data[1].marker.colorbar.title = metadata\n",
    "    fig.data[1].marker.colorbar.titleside = \"top\"\n",
    "    fig.data[1].x = x[~nan_mask]\n",
    "    fig.data[1].y = y[~nan_mask]\n",
    "\n",
    "    # Update text to include metadata\n",
    "    fig.data[0].text = [\n",
    "        f\"Index: {i}<br>{metadata}: {j}\"\n",
    "        for i, j in zip(adata.obs.index[nan_mask], col[nan_mask])\n",
    "    ]\n",
    "    fig.data[1].text = [\n",
    "        f\"Index: {i}<br>{metadata}: {j}\"\n",
    "        for i, j in zip(adata.obs.index[~nan_mask], col[~nan_mask])\n",
    "    ]\n",
    "\n",
    "\n",
    "plot_button.on_click(plot_on_click)\n",
    "\n",
    "vbox = widgets.VBox([embed_dropdown, metadata_dropdown, plot_button])\n",
    "display(vbox)\n",
    "display(fig)\n"
   ]
  },
  {
   "cell_type": "code",
   "execution_count": null,
   "metadata": {},
   "outputs": [],
   "source": []
  }
 ],
 "metadata": {
  "kernelspec": {
   "display_name": "americangut",
   "language": "python",
   "name": "python3"
  },
  "language_info": {
   "codemirror_mode": {
    "name": "ipython",
    "version": 3
   },
   "file_extension": ".py",
   "mimetype": "text/x-python",
   "name": "python",
   "nbconvert_exporter": "python",
   "pygments_lexer": "ipython3",
   "version": "3.11.3"
  },
  "orig_nbformat": 4
 },
 "nbformat": 4,
 "nbformat_minor": 2
}
