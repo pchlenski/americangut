{
 "cells": [
  {
   "cell_type": "code",
   "execution_count": 1,
   "metadata": {},
   "outputs": [],
   "source": [
    "%load_ext autoreload\n",
    "%autoreload 2"
   ]
  },
  {
   "cell_type": "code",
   "execution_count": 2,
   "metadata": {},
   "outputs": [],
   "source": [
    "from make_xy import make_anndata_X_y\n"
   ]
  },
  {
   "cell_type": "code",
   "execution_count": 9,
   "metadata": {},
   "outputs": [
    {
     "name": "stdout",
     "output_type": "stream",
     "text": [
      "(27467, 37215) (27467,)\n"
     ]
    }
   ],
   "source": [
    "# Basic case works - 8.0s\n",
    "\n",
    "X, y = make_anndata_X_y()\n",
    "print(X.shape, y.shape)\n"
   ]
  },
  {
   "cell_type": "code",
   "execution_count": 10,
   "metadata": {},
   "outputs": [
    {
     "name": "stdout",
     "output_type": "stream",
     "text": [
      "(2690, 37215) (2690,)\n"
     ]
    }
   ],
   "source": [
    "# Downsample case works - 23.9s\n",
    "\n",
    "X2, y2 = make_anndata_X_y(balance=True)\n",
    "print(X2.shape, y2.shape)\n"
   ]
  },
  {
   "cell_type": "code",
   "execution_count": 11,
   "metadata": {},
   "outputs": [],
   "source": [
    "# Setting seeds works - 20.2s:\n",
    "\n",
    "X3a, y3b = make_anndata_X_y(balance=True, seed=42)\n",
    "X3b, y3b = make_anndata_X_y(balance=True, seed=42)\n",
    "\n",
    "assert (X3a == X3b).all()\n"
   ]
  },
  {
   "cell_type": "code",
   "execution_count": 12,
   "metadata": {},
   "outputs": [
    {
     "name": "stdout",
     "output_type": "stream",
     "text": [
      "(2690, 2) (2690,)\n"
     ]
    }
   ],
   "source": [
    "# Embeddings work\n",
    "\n",
    "X4, y4 = make_anndata_X_y(balance=True, embedding=\"poi_mix_2\")\n",
    "print(X4.shape, y4.shape)\n"
   ]
  },
  {
   "cell_type": "code",
   "execution_count": 13,
   "metadata": {},
   "outputs": [
    {
     "name": "stdout",
     "output_type": "stream",
     "text": [
      "(15308, 37215) (15308,)\n"
     ]
    }
   ],
   "source": [
    "# Other columns work\n",
    "\n",
    "X5, y5 = make_anndata_X_y(column=\"vivid_dreams\", balance=True)\n",
    "print(X5.shape, y5.shape)\n"
   ]
  },
  {
   "cell_type": "code",
   "execution_count": null,
   "metadata": {},
   "outputs": [],
   "source": []
  }
 ],
 "metadata": {
  "kernelspec": {
   "display_name": "americangut",
   "language": "python",
   "name": "python3"
  },
  "language_info": {
   "codemirror_mode": {
    "name": "ipython",
    "version": 3
   },
   "file_extension": ".py",
   "mimetype": "text/x-python",
   "name": "python",
   "nbconvert_exporter": "python",
   "pygments_lexer": "ipython3",
   "version": "3.1.0"
  },
  "orig_nbformat": 4
 },
 "nbformat": 4,
 "nbformat_minor": 2
}
