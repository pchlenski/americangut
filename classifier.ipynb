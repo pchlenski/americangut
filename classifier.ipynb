{
 "cells": [
  {
   "cell_type": "code",
   "execution_count": 1,
   "metadata": {},
   "outputs": [],
   "source": [
    "# Turn americangut into a binary classification problem\n"
   ]
  },
  {
   "cell_type": "code",
   "execution_count": 2,
   "metadata": {},
   "outputs": [],
   "source": [
    "import anndata\n"
   ]
  },
  {
   "cell_type": "code",
   "execution_count": 3,
   "metadata": {},
   "outputs": [],
   "source": [
    "adata = anndata.read_h5ad(\"data/americangut_embeddings.h5ad\")\n"
   ]
  },
  {
   "cell_type": "code",
   "execution_count": 11,
   "metadata": {},
   "outputs": [
    {
     "name": "stdout",
     "output_type": "stream",
     "text": [
      "ibd\n",
      "i do not have this condition                                         26122\n",
      "nan                                                                   5137\n",
      "diagnosed by a medical professional (doctor, physician assistant)     1089\n",
      "self-diagnosed                                                         219\n",
      "diagnosed by an alternative medicine practitioner                       37\n",
      "not provided                                                             3\n",
      "unspecified                                                              1\n",
      "Name: count, dtype: int64\n"
     ]
    }
   ],
   "source": [
    "def report(column, normalize=False):\n",
    "    \"\"\"Report on column values. Call this for manual inspection\"\"\"\n",
    "    print(adata.obs[column].str.lower().value_counts(normalize=normalize))\n",
    "\n",
    "\n",
    "report(\"ibd\")\n"
   ]
  },
  {
   "cell_type": "code",
   "execution_count": 10,
   "metadata": {},
   "outputs": [],
   "source": [
    "def classify(column, pos_vals, neg_vals, nan_vals, data=adata.X):\n",
    "    vals = adata.obs[column].str.lower()\n",
    "    nan_vals = vals.isna() | vals.isin(nan_vals)\n",
    "    pos_vals = vals.isin(pos_vals)\n",
    "    neg_vals = vals.isin(neg_vals)\n",
    "    assert not (pos_vals & neg_vals).any()\n",
    "    assert (pos_vals | neg_vals | nan_vals).all()\n",
    "\n",
    "    X = data[~nan_vals]\n",
    "    y = pos_vals[~nan_vals]\n",
    "\n",
    "    return X, y\n"
   ]
  },
  {
   "cell_type": "code",
   "execution_count": 12,
   "metadata": {},
   "outputs": [],
   "source": [
    "X, y = classify(\n",
    "    column=\"ibd\",\n",
    "    pos_vals=[\n",
    "        \"diagnosed by a medical professional (doctor, physician assistant)\",\n",
    "        \"self-diagnosed\",\n",
    "        \"diagnosed by an alternative medicine practitioner\",\n",
    "    ],\n",
    "    neg_vals=[\"i do not have this condition\"],\n",
    "    nan_vals=[\"nan\", \"not provided\", \"unspecified\"],\n",
    "    data=adata.obsm[\"euc_mix_128\"],\n",
    ")\n"
   ]
  },
  {
   "cell_type": "code",
   "execution_count": 27,
   "metadata": {},
   "outputs": [
    {
     "name": "stdout",
     "output_type": "stream",
     "text": [
      "category\n",
      "cancer_treatment\n",
      "nan                  31048\n",
      "surgery only           847\n",
      "chemotherapy           260\n",
      "not provided           188\n",
      "radiation therapy      173\n",
      "no treatment            87\n",
      "unspecified              5\n",
      "Name: count, dtype: int64\n",
      "category\n",
      "cardiovascular_disease\n",
      "i do not have this condition                                         22371\n",
      "nan                                                                   9158\n",
      "diagnosed by a medical professional (doctor, physician assistant)     1041\n",
      "self-diagnosed                                                          30\n",
      "diagnosed by an alternative medicine practitioner                        6\n",
      "not provided                                                             2\n",
      "Name: count, dtype: int64\n",
      "category\n",
      "cat\n",
      "no              21186\n",
      "yes              7243\n",
      "nan              4171\n",
      "false               6\n",
      "not provided        1\n",
      "true                1\n",
      "Name: count, dtype: int64\n",
      "category\n",
      "cdiff\n",
      "i do not have this condition                                         22661\n",
      "nan                                                                   9426\n",
      "diagnosed by a medical professional (doctor, physician assistant)      394\n",
      "diagnosed by an alternative medicine practitioner                       78\n",
      "self-diagnosed                                                          44\n",
      "not provided                                                             4\n",
      "unspecified                                                              1\n",
      "Name: count, dtype: int64\n",
      "category\n",
      "census_region\n",
      "nan             32586\n",
      "usa                15\n",
      "not provided        5\n",
      "south               1\n",
      "west                1\n",
      "Name: count, dtype: int64\n",
      "category\n",
      "chickenpox\n",
      "yes             22329\n",
      "no               4453\n",
      "nan              4289\n",
      "not sure         1528\n",
      "true                7\n",
      "not provided        2\n",
      "Name: count, dtype: int64\n",
      "category\n",
      "clinical_condition\n",
      "i do not have this condition                                         17829\n",
      "nan                                                                   9980\n",
      "diagnosed by a medical professional (doctor, physician assistant)     4475\n",
      "self-diagnosed                                                         212\n",
      "diagnosed by an alternative medicine practitioner                      107\n",
      "not provided                                                             4\n",
      "unspecified                                                              1\n",
      "Name: count, dtype: int64\n",
      "category\n",
      "collection_timestamp\n",
      "nan                    2666\n",
      "2017-01-25t09:00:00     130\n",
      "2017-02-07t09:00:00      84\n",
      "2016-11-21t20:00:00      82\n",
      "2016-12-17t20:00:00      70\n",
      "                       ... \n",
      "2022-02-18t18:41:00       1\n",
      "2022-02-25t06:42:00       1\n",
      "2022-01-08t10:00:00       1\n",
      "2022-02-24t08:30:00       1\n",
      "2018-04-09t10:55:00       1\n",
      "Name: count, Length: 24955, dtype: int64\n",
      "category\n",
      "consume_animal_products_abx\n",
      "nan             8980\n",
      "yes             8695\n",
      "not sure        8615\n",
      "no              6313\n",
      "false              2\n",
      "not provided       2\n",
      "true               1\n",
      "Name: count, dtype: int64\n",
      "category\n",
      "contraceptive\n",
      "no                                               23071\n",
      "nan                                               7241\n",
      "yes, i am taking the \"pill                        1311\n",
      "yes, i use a hormonal iud (mirena)                 774\n",
      "yes, i use the nuvaring                             91\n",
      "yes, i use an injected contraceptive (dmpa)         83\n",
      "yes, i use a contraceptive patch (ortho-evra)       23\n",
      "not provided                                        13\n",
      "unspecified                                          1\n",
      "Name: count, dtype: int64\n"
     ]
    }
   ],
   "source": [
    "# Use this to build up a master list\n",
    "\n",
    "for col in adata.obs.columns[50:60]:\n",
    "    print(adata.obs.dtypes[col])\n",
    "    if adata.obs.dtypes[col] == \"category\":\n",
    "        report(col)\n"
   ]
  },
  {
   "cell_type": "code",
   "execution_count": 22,
   "metadata": {},
   "outputs": [],
   "source": [
    "neg_master = [\"no\", \"false\", \"i do not have this condition\", \"never\"]\n",
    "\n",
    "pos_master = [\n",
    "    \"yes\",\n",
    "    \"true\",\n",
    "    \"diagnosed by a medical professional (doctor, physician assistant)\",\n",
    "    \"self-diagnosed\",\n",
    "    \"diagnosed by an alternative medicine practitioner\",\n",
    "    \"rarely (less than once/week)\",\n",
    "    \"occasionally (1-2 times/week)\",\n",
    "    \"regularly (3-5 times/week)\",\n",
    "    \"daily\",\n",
    "]\n",
    "\n",
    "nan_master = [\"nan\", \"not provided\", \"not sure\", \"not collected\"]\n"
   ]
  },
  {
   "cell_type": "code",
   "execution_count": null,
   "metadata": {},
   "outputs": [],
   "source": []
  }
 ],
 "metadata": {
  "kernelspec": {
   "display_name": "americangut",
   "language": "python",
   "name": "python3"
  },
  "language_info": {
   "codemirror_mode": {
    "name": "ipython",
    "version": 3
   },
   "file_extension": ".py",
   "mimetype": "text/x-python",
   "name": "python",
   "nbconvert_exporter": "python",
   "pygments_lexer": "ipython3",
   "version": "3.11.3"
  },
  "orig_nbformat": 4
 },
 "nbformat": 4,
 "nbformat_minor": 2
}
