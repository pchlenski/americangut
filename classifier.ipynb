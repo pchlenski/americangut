{
 "cells": [
  {
   "cell_type": "code",
   "execution_count": 2,
   "metadata": {},
   "outputs": [],
   "source": [
    "# Turn americangut into a binary classification problem\n"
   ]
  },
  {
   "cell_type": "code",
   "execution_count": 3,
   "metadata": {},
   "outputs": [],
   "source": [
    "import anndata\n",
    "import numpy as np\n"
   ]
  },
  {
   "cell_type": "code",
   "execution_count": 4,
   "metadata": {},
   "outputs": [],
   "source": [
    "adata = anndata.read_h5ad(\"data/americangut_embeddings.h5ad\")\n"
   ]
  },
  {
   "cell_type": "code",
   "execution_count": 5,
   "metadata": {},
   "outputs": [
    {
     "name": "stdout",
     "output_type": "stream",
     "text": [
      "ibd\n",
      "i do not have this condition                                         26122\n",
      "nan                                                                   5137\n",
      "diagnosed by a medical professional (doctor, physician assistant)     1089\n",
      "self-diagnosed                                                         219\n",
      "diagnosed by an alternative medicine practitioner                       37\n",
      "not provided                                                             3\n",
      "unspecified                                                              1\n",
      "Name: count, dtype: int64\n"
     ]
    }
   ],
   "source": [
    "def report(column, normalize=False):\n",
    "    \"\"\"Report on column values. Call this for manual inspection\"\"\"\n",
    "    print(adata.obs[column].str.lower().value_counts(normalize=normalize))\n",
    "\n",
    "\n",
    "report(\"ibd\")\n"
   ]
  },
  {
   "cell_type": "code",
   "execution_count": 16,
   "metadata": {},
   "outputs": [
    {
     "name": "stdout",
     "output_type": "stream",
     "text": [
      "category\n",
      "cancer_treatment\n",
      "nan                  31048\n",
      "surgery only           847\n",
      "chemotherapy           260\n",
      "not provided           188\n",
      "radiation therapy      173\n",
      "no treatment            87\n",
      "unspecified              5\n",
      "Name: count, dtype: int64\n",
      "category\n",
      "cardiovascular_disease\n",
      "i do not have this condition                                         22371\n",
      "nan                                                                   9158\n",
      "diagnosed by a medical professional (doctor, physician assistant)     1041\n",
      "self-diagnosed                                                          30\n",
      "diagnosed by an alternative medicine practitioner                        6\n",
      "not provided                                                             2\n",
      "Name: count, dtype: int64\n",
      "category\n",
      "cat\n",
      "no              21186\n",
      "yes              7243\n",
      "nan              4171\n",
      "false               6\n",
      "not provided        1\n",
      "true                1\n",
      "Name: count, dtype: int64\n",
      "category\n",
      "cdiff\n",
      "i do not have this condition                                         22661\n",
      "nan                                                                   9426\n",
      "diagnosed by a medical professional (doctor, physician assistant)      394\n",
      "diagnosed by an alternative medicine practitioner                       78\n",
      "self-diagnosed                                                          44\n",
      "not provided                                                             4\n",
      "unspecified                                                              1\n",
      "Name: count, dtype: int64\n",
      "category\n",
      "census_region\n",
      "nan             32586\n",
      "usa                15\n",
      "not provided        5\n",
      "south               1\n",
      "west                1\n",
      "Name: count, dtype: int64\n",
      "category\n",
      "chickenpox\n",
      "yes             22329\n",
      "no               4453\n",
      "nan              4289\n",
      "not sure         1528\n",
      "true                7\n",
      "not provided        2\n",
      "Name: count, dtype: int64\n",
      "category\n",
      "clinical_condition\n",
      "i do not have this condition                                         17829\n",
      "nan                                                                   9980\n",
      "diagnosed by a medical professional (doctor, physician assistant)     4475\n",
      "self-diagnosed                                                         212\n",
      "diagnosed by an alternative medicine practitioner                      107\n",
      "not provided                                                             4\n",
      "unspecified                                                              1\n",
      "Name: count, dtype: int64\n",
      "category\n",
      "collection_timestamp\n",
      "nan                    2666\n",
      "2017-01-25t09:00:00     130\n",
      "2017-02-07t09:00:00      84\n",
      "2016-11-21t20:00:00      82\n",
      "2016-12-17t20:00:00      70\n",
      "                       ... \n",
      "2022-02-18t18:41:00       1\n",
      "2022-02-25t06:42:00       1\n",
      "2022-01-08t10:00:00       1\n",
      "2022-02-24t08:30:00       1\n",
      "2018-04-09t10:55:00       1\n",
      "Name: count, Length: 24955, dtype: int64\n",
      "category\n",
      "consume_animal_products_abx\n",
      "nan             8980\n",
      "yes             8695\n",
      "not sure        8615\n",
      "no              6313\n",
      "false              2\n",
      "not provided       2\n",
      "true               1\n",
      "Name: count, dtype: int64\n",
      "category\n",
      "contraceptive\n",
      "no                                               23071\n",
      "nan                                               7241\n",
      "yes, i am taking the \"pill                        1311\n",
      "yes, i use a hormonal iud (mirena)                 774\n",
      "yes, i use the nuvaring                             91\n",
      "yes, i use an injected contraceptive (dmpa)         83\n",
      "yes, i use a contraceptive patch (ortho-evra)       23\n",
      "not provided                                        13\n",
      "unspecified                                          1\n",
      "Name: count, dtype: int64\n"
     ]
    }
   ],
   "source": [
    "# Use this to build up a master list\n",
    "\n",
    "for col in adata.obs.columns[50:60]:\n",
    "    print(adata.obs.dtypes[col])\n",
    "    if adata.obs.dtypes[col] == \"category\":\n",
    "        report(col)\n",
    "\n",
    "neg_master = [\"no\", \"false\", \"i do not have this condition\", \"never\"]\n",
    "\n",
    "pos_master = [\n",
    "    \"yes\",\n",
    "    \"true\",\n",
    "    \"diagnosed by a medical professional (doctor, physician assistant)\",\n",
    "    \"self-diagnosed\",\n",
    "    \"diagnosed by an alternative medicine practitioner\",\n",
    "    \"rarely (less than once/week)\",\n",
    "    \"rarely (a few times/month)\",\n",
    "    \"occasionally (1-2 times/week)\",\n",
    "    \"regularly (3-5 times/week)\",\n",
    "    \"daily\",\n",
    "]\n",
    "\n",
    "nan_master = [\"nan\", \"not provided\", \"not sure\", \"not collected\", \"unspecified\"]\n"
   ]
  },
  {
   "cell_type": "code",
   "execution_count": 17,
   "metadata": {},
   "outputs": [],
   "source": [
    "def classify(\n",
    "    column,\n",
    "    pos_vals=pos_master,\n",
    "    neg_vals=neg_master,\n",
    "    nan_vals=nan_master,\n",
    "    data=adata.X.toarray(),\n",
    "    balance=False,\n",
    "    seed=None,\n",
    "):\n",
    "    vals = adata.obs[column].str.lower()\n",
    "    nan_vals = vals.isna() | vals.isin(nan_vals)\n",
    "    pos_vals = vals.isin(pos_vals)\n",
    "    neg_vals = vals.isin(neg_vals)\n",
    "    assert not (pos_vals & neg_vals).any()\n",
    "    try:\n",
    "        assert (pos_vals | neg_vals | nan_vals).all()\n",
    "    except AssertionError:\n",
    "        print(column)\n",
    "        print(vals[~(pos_vals | neg_vals | nan_vals)])\n",
    "\n",
    "    X = np.array(data)[~nan_vals]\n",
    "    y = np.array(pos_vals)[~nan_vals]\n",
    "\n",
    "    n_pos = y.sum()\n",
    "    n_neg = (~y).sum()\n",
    "\n",
    "    if balance:\n",
    "        if seed is not None:\n",
    "            np.random.seed(seed)\n",
    "        # Balance the classes\n",
    "        if n_pos > n_neg:\n",
    "            drop = np.random.choice(\n",
    "                np.where(y)[0], n_pos - n_neg, replace=False\n",
    "            )\n",
    "        elif n_neg > n_pos:\n",
    "            drop = np.random.choice(\n",
    "                np.where(~y)[0], n_neg - n_pos, replace=False\n",
    "            )\n",
    "        X = np.delete(X, drop, axis=0)\n",
    "        y = np.delete(y, drop, axis=0)\n",
    "\n",
    "    return X, y\n"
   ]
  },
  {
   "cell_type": "code",
   "execution_count": 8,
   "metadata": {},
   "outputs": [],
   "source": [
    "X_ibd, y_ibd = classify(column=\"ibd\", balance=True)\n"
   ]
  },
  {
   "cell_type": "code",
   "execution_count": null,
   "metadata": {},
   "outputs": [
    {
     "name": "stdout",
     "output_type": "stream",
     "text": [
      "ibd (2690)\thyp_mix_64\t0.5985 ± 0.0712\n",
      "\n",
      "ibd (2690)\tpoi_mix_64\t0.5985 ± 0.0712\n",
      "\n",
      "ibd (2690)\teuc_mix_64\t0.5844 ± 0.0689\n",
      "\n",
      "ibd (2690)\tpca_64\t0.5844 ± 0.0637\n",
      "\n",
      "asd (1512)\thyp_mix_64\t0.5701 ± 0.0205\n",
      "\n",
      "asd (1512)\tpoi_mix_64\t0.5701 ± 0.0205\n",
      "\n",
      "asd (1512)\teuc_mix_64\t0.5754 ± 0.0487\n",
      "\n",
      "asd (1512)\tpca_64\t0.5701 ± 0.0305\n",
      "\n",
      "vivid_dreams (15308)\thyp_mix_64\t0.5105 ± 0.0094\n",
      "\n",
      "vivid_dreams (15308)\tpoi_mix_64\t0.5105 ± 0.0094\n",
      "\n",
      "vivid_dreams (15308)\teuc_mix_64\t0.5131 ± 0.0035\n",
      "\n",
      "vivid_dreams (15308)\tpca_64\t0.5063 ± 0.0115\n",
      "\n"
     ]
    }
   ],
   "source": [
    "# Basic experiment: XGBoost in different embeddings\n",
    "from sklearn.model_selection import cross_val_score\n",
    "from xgboost import XGBClassifier\n",
    "import pandas as pd\n",
    "\n",
    "X_np = adata.X.toarray()\n",
    "\n",
    "NDIM = 64\n",
    "\n",
    "results = []\n",
    "for column in [\"ibd\", \"asd\", \"vivid_dreams\"]:\n",
    "    for embedding in [\n",
    "        f\"hyp_mix_{NDIM}\", f\"poi_mix_{NDIM}\", f\"euc_mix_{NDIM}\", f\"pca_{NDIM}\"\n",
    "    ]:\n",
    "        X, y = classify(\n",
    "            column=column, data=adata.obsm[embedding], balance=True, seed=42\n",
    "        )\n",
    "        xgb = XGBClassifier()\n",
    "        score = cross_val_score(xgb, X, y, cv=5)\n",
    "        print(f\"{column} ({len(X)})\\t{embedding}\\t{score.mean():.4f} ± {score.std():.4f}\")\n",
    "        results.append(\n",
    "            {\n",
    "                \"column\": column,\n",
    "                \"embedding\": embedding,\n",
    "                \"score\": score.mean(),\n",
    "                \"score_std\": score.std(),\n",
    "            }\n",
    "        )\n",
    "        print()\n",
    "\n",
    "results = pd.DataFrame(results)"
   ]
  },
  {
   "cell_type": "code",
   "execution_count": 28,
   "metadata": {},
   "outputs": [
    {
     "data": {
      "text/plain": [
       "([0, 1, 2, 3, 4, 5, 6, 7, 8, 9, 10, 11],\n",
       " [Text(0, 0, 'ibd hyp_mix_64'),\n",
       "  Text(1, 0, 'ibd poi_mix_64'),\n",
       "  Text(2, 0, 'ibd euc_mix_64'),\n",
       "  Text(3, 0, 'ibd pca_64'),\n",
       "  Text(4, 0, 'asd hyp_mix_64'),\n",
       "  Text(5, 0, 'asd poi_mix_64'),\n",
       "  Text(6, 0, 'asd euc_mix_64'),\n",
       "  Text(7, 0, 'asd pca_64'),\n",
       "  Text(8, 0, 'vivid_dreams hyp_mix_64'),\n",
       "  Text(9, 0, 'vivid_dreams poi_mix_64'),\n",
       "  Text(10, 0, 'vivid_dreams euc_mix_64'),\n",
       "  Text(11, 0, 'vivid_dreams pca_64')])"
      ]
     },
     "execution_count": 28,
     "metadata": {},
     "output_type": "execute_result"
    },
    {
     "data": {
      "image/png": "[encoded data removed]",
      "text/plain": [
       "<Figure size 1500x1000 with 1 Axes>"
      ]
     },
     "metadata": {},
     "output_type": "display_data"
    }
   ],
   "source": [
    "# Make a bar plot\n",
    "\n",
    "import matplotlib.pyplot as plt\n",
    "\n",
    "fig = plt.figure(figsize=(15, 10))\n",
    "plt.bar(\n",
    "    results[\"column\"] + \" \" + results[\"embedding\"],\n",
    "    results[\"score\"],\n",
    "    yerr=results[\"score_std\"],\n",
    ")\n",
    "plt.xticks(rotation=90)"
   ]
  },
  {
   "cell_type": "code",
   "execution_count": null,
   "metadata": {},
   "outputs": [],
   "source": []
  }
 ],
 "metadata": {
  "kernelspec": {
   "display_name": "americangut",
   "language": "python",
   "name": "python3"
  },
  "language_info": {
   "codemirror_mode": {
    "name": "ipython",
    "version": 3
   },
   "file_extension": ".py",
   "mimetype": "text/x-python",
   "name": "python",
   "nbconvert_exporter": "python",
   "pygments_lexer": "ipython3",
   "version": "3.11.4"
  },
  "orig_nbformat": 4
 },
 "nbformat": 4,
 "nbformat_minor": 2
}
