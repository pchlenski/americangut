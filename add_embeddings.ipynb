{
 "cells": [
  {
   "cell_type": "code",
   "execution_count": 1,
   "metadata": {},
   "outputs": [],
   "source": [
    "%load_ext autoreload\n",
    "%autoreload 2"
   ]
  },
  {
   "cell_type": "code",
   "execution_count": 2,
   "metadata": {},
   "outputs": [
    {
     "name": "stderr",
     "output_type": "stream",
     "text": [
      "INFO: Using numpy backend\n"
     ]
    }
   ],
   "source": [
    "import os\n",
    "import sys\n",
    "\n",
    "import anndata\n",
    "import numpy as np\n",
    "import pandas as pd\n",
    "\n",
    "from sklearn.decomposition import PCA\n",
    "\n",
    "# sys.path.append(\"/home/phil/mixture_embeddings/notebooks/pac\")\n",
    "sys.path.append(\"/home/phil/mixture_embeddings\")\n",
    "# from util import mixture_embedding\n",
    "from src.embeddings.mixture_embeddings import (\n",
    "    get_mixture_embeddings,\n",
    "    convert_geometry_after,\n",
    ")\n"
   ]
  },
  {
   "cell_type": "code",
   "execution_count": 3,
   "metadata": {},
   "outputs": [],
   "source": [
    "# Set pytorch backend\n",
    "\n",
    "# os.environ[\"GEOMSTATS_BACKEND\"] = \"pytorch\"\n",
    "os.environ[\"GEOMSTATS_BACKEND\"] = \"numpy\"\n"
   ]
  },
  {
   "cell_type": "code",
   "execution_count": 4,
   "metadata": {},
   "outputs": [
    {
     "name": "stdout",
     "output_type": "stream",
     "text": [
      "AnnData object with n_obs × n_vars = 32608 × 37215\n",
      "    obs: 'acid_reflux', 'acne_medication', 'acne_medication_otc', 'add_adhd', 'age_cat', 'age_years', 'alcohol_consumption', 'alcohol_frequency', 'alcohol_types_beercider', 'alcohol_types_red_wine', 'alcohol_types_sour_beers', 'alcohol_types_spiritshard_alcohol', 'alcohol_types_unspecified', 'alcohol_types_white_wine', 'allergic_to_i_have_no_food_allergies_that_i_know_of', 'allergic_to_peanuts', 'allergic_to_shellfish', 'allergic_to_tree_nuts', 'allergic_to_unspecified', 'alzheimers', 'animal_age', 'animal_free_text', 'animal_gender', 'animal_origin', 'animal_type', 'animal_type_free_text', 'anonymized_name', 'antibiotic_history', 'appendix_removed', 'artificial_gi_disorder_types_constipation', 'artificial_gi_disorder_types_diarrhea', 'artificial_gi_disorder_types_soft_stools', 'artificial_gi_disorder_types_stomachache', 'artificial_gi_disorder_types_unspecified', 'artificial_gi_disorders', 'artificial_sweeteners', 'artificial_sweeteners_food', 'asd', 'atypical_sleep_time', 'autoimmune', 'beet_frequency', 'birth_year', 'bmi', 'bmi_cat', 'body_product', 'body_site', 'bowel_movement_frequency', 'bowel_movement_quality', 'breastmilk_formula_ensure', 'cancer', 'cancer_treatment', 'cardiovascular_disease', 'cat', 'cdiff', 'census_region', 'chickenpox', 'clinical_condition', 'collection_timestamp', 'consume_animal_products_abx', 'contraceptive', 'coprophage', 'cosmetics_frequency', 'country', 'country_of_birth', 'country_residence', 'covid_anxious', 'covid_chronic_conditions_any_autoimmune_disease', 'covid_chronic_conditions_arthritis', 'covid_chronic_conditions_asthma_or_other_lung_problems', 'covid_chronic_conditions_atrial_fibrillation_or_atrial_flutter', 'covid_chronic_conditions_cancer', 'covid_chronic_conditions_chronic_obstructive_pulmonary_disease_copd', 'covid_chronic_conditions_congestive_heart_failure', 'covid_chronic_conditions_deep_vein_thrombosis', 'covid_chronic_conditions_diabetes_or_high_blood_sugar', 'covid_chronic_conditions_epilepsy_or_seizures', 'covid_chronic_conditions_frequent_or_very_bad_headaches', 'covid_chronic_conditions_heart_disease__myocardial_infarction', 'covid_chronic_conditions_heart_problems', 'covid_chronic_conditions_hiv', 'covid_chronic_conditions_hypertension', 'covid_chronic_conditions_immune_disorder', 'covid_chronic_conditions_kidney_problems', 'covid_chronic_conditions_pulmonary_embolism', 'covid_chronic_conditions_seasonal_allergies', 'covid_chronic_conditions_serious_acne_or_skin_problems', 'covid_chronic_conditions_serious_stomach_or_bowel_problems', 'covid_chronic_conditions_stroke', 'covid_chronic_conditions_unspecified', 'covid_depressed', 'covid_difficulty_falling_asleep', 'covid_difficulty_staying_asleep', 'covid_family_members_fallen_ill_physically', 'covid_family_members_hospitalized', 'covid_family_members_lost_job', 'covid_family_members_none_of_the_above', 'covid_family_members_passed_away', 'covid_family_members_put_into_self_quarantine_with_symptoms', 'covid_family_members_put_into_self_quarantine_without_symptoms_eg_due_to_possible_exposure', 'covid_family_members_reduced_ability_to_earn_money', 'covid_family_members_unspecified', 'covid_happened_to_you_fallen_ill_physically', 'covid_happened_to_you_hospitalized', 'covid_happened_to_you_lost_job', 'covid_happened_to_you_none_of_the_above', 'covid_happened_to_you_put_into_self_quarantine_with_symptoms', 'covid_happened_to_you_put_into_self_quarantine_without_symptoms_eg_due_to_possible_exposure', 'covid_happened_to_you_reduced_ability_to_earn_money', 'covid_happened_to_you_unspecified', 'covid_interest_pleasure', 'covid_left_home', 'covid_level_of_wellbeing', 'covid_likely_exposure_no', 'covid_likely_exposure_unspecified', 'covid_likely_exposure_yes_someone_with_medical_diagnosis_but_no_test', 'covid_likely_exposure_yes_someone_with_positive_test', 'covid_likely_exposure_yes_someone_with_possible_symptoms_but_no_diagnosis_by_doctor', 'covid_occupation', 'covid_patient_care', 'covid_patient_care_ppe', 'covid_patient_care_seven_days', 'covid_patient_care_seven_days_confirmed', 'covid_quality_of_life', 'covid_rideshare', 'covid_sleep_interference', 'covid_sleep_pattern', 'covid_suspected_positive', 'covid_suspected_positive_date', 'covid_symptoms_chest_pain_or_tightness_in_chest', 'covid_symptoms_cough', 'covid_symptoms_diarrhea', 'covid_symptoms_fatigue', 'covid_symptoms_fever', 'covid_symptoms_lack_of_appetitie', 'covid_symptoms_loss_of_taste_or_smell', 'covid_symptoms_nausea', 'covid_symptoms_other', 'covid_symptoms_shortness_of_breath', 'covid_symptoms_sore_throat', 'covid_symptoms_stay_home', 'covid_symptoms_unspecified', 'covid_waking_up_early', 'covid_worried_sleep', 'covid_worrying', 'csection', 'dark_mode_on', 'deodorant_use', 'depression_bipolar_schizophrenia', 'description', 'diabetes', 'diabetes_type', 'diet', 'diet_type', 'dna_extracted', 'dog', 'dominant_hand', 'drinking_water_source', 'drinks_per_session', 'economic_region', 'elevation', 'empo_1', 'empo_2', 'empo_3', 'env_biome', 'env_feature', 'env_material', 'env_package', 'epilepsy_or_seizure_disorder', 'exercise_frequency', 'exercise_location', 'fed_as_infant', 'fermented_consumed', 'fermented_consumed_beer', 'fermented_consumed_chicha', 'fermented_consumed_cider', 'fermented_consumed_cottage_cheese', 'fermented_consumed_fermented_beansmisonatto', 'fermented_consumed_fermented_breadsourdoughinjera', 'fermented_consumed_fermented_fish', 'fermented_consumed_fermented_tofu', 'fermented_consumed_fish_sauce', 'fermented_consumed_kefir_milk', 'fermented_consumed_kefir_water', 'fermented_consumed_kimchi', 'fermented_consumed_kombucha', 'fermented_consumed_mead', 'fermented_consumed_other', 'fermented_consumed_other_1', 'fermented_consumed_pickled_vegetables', 'fermented_consumed_sauerkraut', 'fermented_consumed_sour_creamcreme_fraiche', 'fermented_consumed_tempeh', 'fermented_consumed_unspecified', 'fermented_consumed_wine', 'fermented_consumed_yogurtlassi', 'fermented_frequency', 'fermented_increased', 'fermented_other', 'fermented_plant_frequency', 'fermented_produce_commercial', 'fermented_produce_commercial_beer', 'fermented_produce_commercial_chicha', 'fermented_produce_commercial_cider', 'fermented_produce_commercial_cottage_cheese', 'fermented_produce_commercial_fermented_beansmisonatto', 'fermented_produce_commercial_fermented_breadsourdoughinjera', 'fermented_produce_commercial_fermented_fish', 'fermented_produce_commercial_fermented_tofu', 'fermented_produce_commercial_fish_sauce', 'fermented_produce_commercial_kefir_milk', 'fermented_produce_commercial_kefir_water', 'fermented_produce_commercial_kimchi', 'fermented_produce_commercial_kombucha', 'fermented_produce_commercial_mead', 'fermented_produce_commercial_other', 'fermented_produce_commercial_other_1', 'fermented_produce_commercial_pickled_vegetables', 'fermented_produce_commercial_sauerkraut', 'fermented_produce_commercial_sour_creamcreme_fraiche', 'fermented_produce_commercial_tempeh', 'fermented_produce_commercial_unspecified', 'fermented_produce_commercial_wine', 'fermented_produce_commercial_yogurtlassi', 'fermented_produce_personal', 'fermented_produce_personal_beer', 'fermented_produce_personal_chicha', 'fermented_produce_personal_cider', 'fermented_produce_personal_cottage_cheese', 'fermented_produce_personal_fermented_beansmisonatto', 'fermented_produce_personal_fermented_breadsourdoughinjera', 'fermented_produce_personal_fermented_fish', 'fermented_produce_personal_fermented_tofu', 'fermented_produce_personal_fish_sauce', 'fermented_produce_personal_kefir_milk', 'fermented_produce_personal_kefir_water', 'fermented_produce_personal_kimchi', 'fermented_produce_personal_kombucha', 'fermented_produce_personal_mead', 'fermented_produce_personal_other', 'fermented_produce_personal_other_1', 'fermented_produce_personal_pickled_vegetables', 'fermented_produce_personal_sauerkraut', 'fermented_produce_personal_sour_creamcreme_fraiche', 'fermented_produce_personal_tempeh', 'fermented_produce_personal_unspecified', 'fermented_produce_personal_wine', 'fermented_produce_personal_yogurtlassi', 'flossing_frequency', 'flu_vaccine_date', 'food_source', 'food_source_human_food', 'food_source_pet_store_food', 'food_source_unspecified', 'food_source_wild_food', 'food_special', 'food_special_grain_free', 'food_special_organic', 'food_special_unspecified', 'food_type', 'frozen_dessert_frequency', 'fruit_frequency', 'fungal_overgrowth', 'geo_loc_name', 'gluten', 'height_cm', 'height_units', 'high_fat_red_meat_frequency', 'homecooked_meals_frequency', 'host_age', 'host_age_normalized_years', 'host_age_units', 'host_body_habitat', 'host_body_mass_index', 'host_body_product', 'host_body_site', 'host_common_name', 'host_height', 'host_height_units', 'host_scientific_name', 'host_subject_id', 'host_taxid', 'host_weight', 'host_weight_units', 'hours_outside', 'humans_free_text', 'ibd', 'ibd_diagnosis', 'ibd_diagnosis_refined', 'ibs', 'keep_sample_for_thdmi', 'kidney_disease', 'lactose', 'last_move', 'last_travel', 'latitude', 'level_of_education', 'lifestage', 'liver_disease', 'living_status', 'livingwith', 'longitude', 'lowgrain_diet_type', 'lung_disease', 'meat_eggs_frequency', 'mental_illness', 'mental_illness_type_anorexia_nervosa', 'mental_illness_type_bipolar_disorder', 'mental_illness_type_bulimia_nervosa', 'mental_illness_type_depression', 'mental_illness_type_ptsd_post_traumatic_stress_disorder', 'mental_illness_type_schizophrenia', 'mental_illness_type_substance_abuse', 'mental_illness_type_unspecified', 'migraine', 'milk_cheese_frequency', 'milk_substitute_frequency', 'multivitamin', 'nail_biter', 'name', 'non_food_allergies_beestings', 'non_food_allergies_drug_eg_penicillin', 'non_food_allergies_pet_dander', 'non_food_allergies_poison_ivyoak', 'non_food_allergies_sun', 'non_food_allergies_unspecified', 'oils_frequency_oxalate', 'oils_frequency_soy', 'olive_oil', 'one_liter_of_water_a_day_frequency', 'other_animals_free_text', 'other_supplement_frequency', 'pets_other', 'physical_specimen_location', 'physical_specimen_remaining', 'pku', 'plant_protein_frequency', 'pm_age', 'pm_concern', 'pm_education', 'pm_email', 'pm_ethnicity', 'pm_experience_worth_it', 'pm_gastro_problems', 'pm_gastro_problems_crohns_disease_or_ulcerative_colitis', 'pm_gastro_problems_frequent_more_than_once_a_week_constipation', 'pm_gastro_problems_frequent_more_than_once_a_week_diarrhea', 'pm_gastro_problems_gastrointestinal_cancer', 'pm_gastro_problems_i_have_had_surgery_on_my_intestines', 'pm_gastro_problems_irritable_bowel_syndrome_ibs', 'pm_gastro_problems_other', 'pm_gastro_problems_unspecified', 'pm_gender', 'pm_health', 'pm_lifestyle_change', 'pm_lifestyle_change_how', 'pm_lifestyle_change_how_change_in_alcohol_or_tobacco_use_ie_starting_stopping_or_changing_amount_consumed', 'pm_lifestyle_change_how_change_in_diet_ie_taking_a_probiotic', 'pm_lifestyle_change_how_change_in_exercise', 'pm_lifestyle_change_how_change_in_physical_environment_ie_adopting_or_getting_rid_of_a_pet_cleaning_more_or_less_often', 'pm_lifestyle_change_how_change_in_use_of_nutritional_supplements_or_vitamins', 'pm_lifestyle_change_how_other', 'pm_lifestyle_change_how_unspecified', 'pm_name', 'pm_participation_reason', 'pm_participation_reason_desire_to_improve_my_health', 'pm_participation_reason_general_curiosityinterest_in_learning_about_my_microbiome', 'pm_participation_reason_i_have_gastrointestinal_problems', 'pm_participation_reason_i_have_other_microbiomerelevant_health_problems', 'pm_participation_reason_interest_in_contributing_to_science', 'pm_participation_reason_other', 'pm_participation_reason_people_in_my_family_or_social_network_have_done_it', 'pm_participation_reason_professional_interest_in_the_microbiome', 'pm_participation_reason_the_study_seemed_fun_and_entertaining', 'pm_participation_reason_unspecified', 'pm_recontact', 'pm_shared', 'pm_shared_pcp', 'pm_shared_pcp_changes', 'pm_shared_pcp_changes_what', 'pm_shared_pcp_changes_what_change_in_behaviorallifestyle_recommendations_eg_start_probiotic', 'pm_shared_pcp_changes_what_change_in_medication_ie_starting_stopping_or_changing_the_dose_of_a_prescription', 'pm_shared_pcp_changes_what_ordered_additional_labs_tests_or_procedures', 'pm_shared_pcp_changes_what_other', 'pm_shared_pcp_changes_what_referral_to_a_specialist_eg_gastroenterologist', 'pm_shared_pcp_changes_what_unspecified', 'pm_shared_who', 'pm_shared_who_colleagues', 'pm_shared_who_family_members', 'pm_shared_who_friends', 'pm_shared_who_nutritionistdietician', 'pm_shared_who_other', 'pm_shared_who_other_medical_or_health_professional', 'pm_shared_who_posteddiscussed_on_an_online_patienthealth_platform_ie_patientslikeme', 'pm_shared_who_posteddiscussed_on_data_sharing_platform_ie_open_humans', 'pm_shared_who_posteddiscussed_on_social_networking_site_ie_facebook', 'pm_shared_who_primary_care_physician', 'pm_shared_who_specialty_physician_eg_gastroenterologist', 'pm_shared_who_unspecified', 'pm_understand_results', 'pm_useful', 'pool_frequency', 'poultry_frequency', 'pregnant', 'prepared_meals_frequency', 'probiotic_frequency', 'public', 'qiita_study_id', 'race', 'ready_to_eat_meals_frequency', 'red_meat_frequency', 'roommates', 'roommates_in_study', 'salted_snacks_frequency', 'sample_type', 'scientific_name', 'seafood_frequency', 'seasonal_allergies', 'setting', 'sex', 'sibo', 'skin_condition', 'sleep_duration', 'sleep_quality', 'smoking_frequency', 'softener', 'specialized_diet_exclude_dairy', 'specialized_diet_exclude_nightshades', 'specialized_diet_exclude_refined_sugars', 'specialized_diet_fodmap', 'specialized_diet_halaal', 'specialized_diet_i_do_not_eat_a_specialized_diet', 'specialized_diet_kosher', 'specialized_diet_modified_paleo_diet', 'specialized_diet_other_restrictions_not_described_here', 'specialized_diet_paleo_diet_or_primal_diet', 'specialized_diet_raw_food_diet', 'specialized_diet_unspecified', 'specialized_diet_weston_price_or_other_low_grain_low_processed_food_diet', 'state', 'subset_age', 'subset_antibiotic_history', 'subset_bmi', 'subset_diabetes', 'subset_healthy', 'subset_ibd', 'sugar_sweetened_drink_frequency', 'sugary_sweets_frequency', 'surf_board_type', 'surf_frequency', 'surf_loal_break_frequency', 'surf_local_break', 'surf_shower_frequency', 'surf_stance', 'surf_sunscreen', 'surf_sunscreen_frequency', 'surf_travel_distance', 'surf_travel_frequency', 'surf_wax', 'surf_weetsuit', 'taxon_id', 'teethbrushing_frequency', 'thdmi_cohort', 'thyroid', 'title', 'toilet_water_access', 'tonsils_removed', 'types_of_plants', 'vegetable_frequency', 'vioscreen_a_bev', 'vioscreen_a_cal', 'vioscreen_acesupot', 'vioscreen_activity_level', 'vioscreen_add_sug', 'vioscreen_addsugar', 'vioscreen_adsugtot', 'vioscreen_age', 'vioscreen_alanine', 'vioscreen_alcohol', 'vioscreen_alcohol_servings', 'vioscreen_alphacar', 'vioscreen_alphtoce', 'vioscreen_alphtoco', 'vioscreen_arginine', 'vioscreen_ash', 'vioscreen_aspartam', 'vioscreen_aspartic', 'vioscreen_avcarb', 'vioscreen_bcodeid', 'vioscreen_betacar', 'vioscreen_betacryp', 'vioscreen_betaine', 'vioscreen_betatoco', 'vioscreen_biochana', 'vioscreen_bmi', 'vioscreen_caffeine', 'vioscreen_calcium', 'vioscreen_calcium_avg', 'vioscreen_calcium_dose', 'vioscreen_calcium_freq', 'vioscreen_calcium_from_dairy_servings', 'vioscreen_calcium_servings', 'vioscreen_calories', 'vioscreen_carbo', 'vioscreen_cholest', 'vioscreen_choline', 'vioscreen_clac9t11', 'vioscreen_clat10c12', 'vioscreen_copper', 'vioscreen_coumest', 'vioscreen_cystine', 'vioscreen_d_cheese', 'vioscreen_d_milk', 'vioscreen_d_tot_soym', 'vioscreen_d_total', 'vioscreen_d_yogurt', 'vioscreen_daidzein', 'vioscreen_database', 'vioscreen_delttoco', 'vioscreen_discfat_oil', 'vioscreen_discfat_sol', 'vioscreen_dob', 'vioscreen_eer', 'vioscreen_email', 'vioscreen_erythr', 'vioscreen_f_citmlb', 'vioscreen_f_nj_citmlb', 'vioscreen_f_nj_other', 'vioscreen_f_nj_total', 'vioscreen_f_other', 'vioscreen_f_total', 'vioscreen_fat', 'vioscreen_fiber', 'vioscreen_fibh2o', 'vioscreen_fibinso', 'vioscreen_finished', 'vioscreen_fish_servings', 'vioscreen_fol_deqv', 'vioscreen_fol_nat', 'vioscreen_fol_syn', 'vioscreen_formontn', 'vioscreen_fried_fish_servings', 'vioscreen_fried_food_servings', 'vioscreen_frt5_day', 'vioscreen_frtsumm', 'vioscreen_fructose', 'vioscreen_fruit_servings', 'vioscreen_g_nwhl', 'vioscreen_g_total', 'vioscreen_g_whl', 'vioscreen_galactos', 'vioscreen_gammtoco', 'vioscreen_gender', 'vioscreen_genistn', 'vioscreen_glac', 'vioscreen_gltc', 'vioscreen_glucose', 'vioscreen_glutamic', 'vioscreen_glycine', 'vioscreen_glycitn', 'vioscreen_grams', 'vioscreen_hei2010_dairy', 'vioscreen_hei2010_empty_calories', 'vioscreen_hei2010_fatty_acids', 'vioscreen_hei2010_fruit', 'vioscreen_hei2010_greens_beans', 'vioscreen_hei2010_protien_foods', 'vioscreen_hei2010_refined_grains', 'vioscreen_hei2010_score', 'vioscreen_hei2010_sea_foods_plant_protiens', 'vioscreen_hei2010_sodium', 'vioscreen_hei2010_veg', 'vioscreen_hei2010_whole_fruit', 'vioscreen_hei2010_whole_grains', 'vioscreen_hei_drk_g_org_veg_leg', 'vioscreen_hei_fruit', 'vioscreen_hei_grains', 'vioscreen_hei_meat_beans', 'vioscreen_hei_milk', 'vioscreen_hei_non_juice_frt', 'vioscreen_hei_oils', 'vioscreen_hei_sat_fat', 'vioscreen_hei_score', 'vioscreen_hei_sodium', 'vioscreen_hei_sol_fat_alc_add_sug', 'vioscreen_hei_veg', 'vioscreen_hei_whl_grains', 'vioscreen_height', 'vioscreen_histidin', 'vioscreen_inositol', 'vioscreen_iron', 'vioscreen_isoleuc', 'vioscreen_isomalt', 'vioscreen_joules', 'vioscreen_juice_servings', 'vioscreen_lactitol', 'vioscreen_lactose', 'vioscreen_legumes', 'vioscreen_leucine', 'vioscreen_line_gi', 'vioscreen_low_fat_dairy_serving', 'vioscreen_lutzeax', 'vioscreen_lycopene', 'vioscreen_lysine', 'vioscreen_m_egg', 'vioscreen_m_fish_hi', 'vioscreen_m_fish_lo', 'vioscreen_m_frank', 'vioscreen_m_meat', 'vioscreen_m_mpf', 'vioscreen_m_nutsd', 'vioscreen_m_organ', 'vioscreen_m_poult', 'vioscreen_m_soy', 'vioscreen_magnes', 'vioscreen_maltitol', 'vioscreen_maltose', 'vioscreen_mangan', 'vioscreen_mannitol', 'vioscreen_methhis3', 'vioscreen_methion', 'vioscreen_mfa141', 'vioscreen_mfa161', 'vioscreen_mfa181', 'vioscreen_mfa201', 'vioscreen_mfa221', 'vioscreen_mfatot', 'vioscreen_multi_calcium_avg', 'vioscreen_multi_calcium_dose', 'vioscreen_multivitamin', 'vioscreen_multivitamin_freq', 'vioscreen_natoco', 'vioscreen_nccglbr', 'vioscreen_nccglgr', 'vioscreen_niacin', 'vioscreen_niacineq', 'vioscreen_nitrogen', 'vioscreen_non_fried_fish_servings', 'vioscreen_nutrient_recommendation', 'vioscreen_omega3', 'vioscreen_oxalic', 'vioscreen_oxalicm', 'vioscreen_pantothe', 'vioscreen_pectins', 'vioscreen_pfa182', 'vioscreen_pfa183', 'vioscreen_pfa184', 'vioscreen_pfa204', 'vioscreen_pfa205', 'vioscreen_pfa225', 'vioscreen_pfa226', 'vioscreen_pfatot', 'vioscreen_phenylal', 'vioscreen_phosphor', 'vioscreen_phytic', 'vioscreen_pinitol', 'vioscreen_potass', 'vioscreen_procdate', 'vioscreen_proline', 'vioscreen_protanim', 'vioscreen_protein', 'vioscreen_protocol', 'vioscreen_protveg', 'vioscreen_questionnaire', 'vioscreen_recno', 'vioscreen_retinol', 'vioscreen_rgrain', 'vioscreen_ribofla', 'vioscreen_sacchar', 'vioscreen_salad_vegetable_servings', 'vioscreen_satoco', 'vioscreen_scf', 'vioscreen_scfv', 'vioscreen_selenium', 'vioscreen_serine', 'vioscreen_sfa100', 'vioscreen_sfa120', 'vioscreen_sfa140', 'vioscreen_sfa160', 'vioscreen_sfa170', 'vioscreen_sfa180', 'vioscreen_sfa200', 'vioscreen_sfa220', 'vioscreen_sfa40', 'vioscreen_sfa60', 'vioscreen_sfa80', 'vioscreen_sfatot', 'vioscreen_sodium', 'vioscreen_sorbitol', 'vioscreen_srvid', 'vioscreen_starch', 'vioscreen_started', 'vioscreen_subject_id', 'vioscreen_sucpoly', 'vioscreen_sucrlose', 'vioscreen_sucrose', 'vioscreen_sweet_servings', 'vioscreen_tagatose', 'vioscreen_tfa161t', 'vioscreen_tfa181t', 'vioscreen_tfa182t', 'vioscreen_tgrain', 'vioscreen_thiamin', 'vioscreen_threonin', 'vioscreen_time', 'vioscreen_totaltfa', 'vioscreen_totcla', 'vioscreen_totfolat', 'vioscreen_totsugar', 'vioscreen_tryptoph', 'vioscreen_tyrosine', 'vioscreen_user_id', 'vioscreen_v_drkgr', 'vioscreen_v_orange', 'vioscreen_v_other', 'vioscreen_v_potato', 'vioscreen_v_starcy', 'vioscreen_v_tomato', 'vioscreen_v_total', 'vioscreen_valine', 'vioscreen_veg5_day', 'vioscreen_vegetable_servings', 'vioscreen_vegsumm', 'vioscreen_visit', 'vioscreen_vita_iu', 'vioscreen_vita_rae', 'vioscreen_vita_re', 'vioscreen_vitb12', 'vioscreen_vitb6', 'vioscreen_vitc', 'vioscreen_vitd', 'vioscreen_vitd2', 'vioscreen_vitd3', 'vioscreen_vitd_iu', 'vioscreen_vite_iu', 'vioscreen_vitk', 'vioscreen_water', 'vioscreen_weight', 'vioscreen_wgrain', 'vioscreen_whole_grain_servings', 'vioscreen_xylitol', 'vioscreen_zinc', 'vitamin_b_supplement_frequency', 'vitamin_d_supplement_frequency', 'vivid_dreams', 'weekday_sleep_time', 'weekday_wake_time', 'weekend_sleep_time', 'weekend_wake_time', 'weight_cat', 'weight_change', 'weight_kg', 'weight_units', 'whole_eggs', 'whole_grain_frequency'\n",
      "    var: 'taxonomy_0', 'taxonomy_1', 'taxonomy_2', 'taxonomy_3', 'taxonomy_4', 'taxonomy_5', 'taxonomy_6'\n",
      "    obsm: 'euc_mix_128', 'euc_mix_16', 'euc_mix_2', 'euc_mix_32', 'euc_mix_4', 'euc_mix_64', 'euc_mix_8', 'hyp_mix_128', 'hyp_mix_16', 'hyp_mix_2', 'hyp_mix_32', 'hyp_mix_4', 'hyp_mix_64', 'hyp_mix_8', 'pca_128', 'pca_16', 'pca_2', 'pca_32', 'pca_4', 'pca_64', 'pca_8', 'poi_mix_128', 'poi_mix_16', 'poi_mix_2', 'poi_mix_32', 'poi_mix_4', 'poi_mix_64', 'poi_mix_8'\n",
      "Sample\n",
      "10317.X00179385    1.0\n",
      "10317.X00179004    1.0\n",
      "10317.X00179030    1.0\n",
      "10317.X00179108    1.0\n",
      "10317.X00179203    1.0\n",
      "10317.X00179272    1.0\n",
      "10317.X00179366    1.0\n",
      "10317.X00179612    1.0\n",
      "10317.X00185459    1.0\n",
      "10317.X00185470    1.0\n",
      "dtype: float32\n"
     ]
    }
   ],
   "source": [
    "# Load data\n",
    "\n",
    "# adata = anndata.read_h5ad(\"data/big_table.h5ad\")\n",
    "# adata = anndata.read_h5ad(\"data/big_table.h5ad\")\n",
    "adata = anndata.read_h5ad(\"data/americangut_embeddings.h5ad\")\n",
    "adata.X /= adata.X.sum(axis=1)  # normalize\n",
    "\n",
    "adata_df = adata.to_df()\n",
    "\n",
    "# Truncate\n",
    "\n",
    "# adata.X = adata.X.tocsr()\n",
    "# adata = adata[:1000]\n",
    "\n",
    "print(adata)\n",
    "print(adata.to_df().iloc[:10].sum(axis=1))  # check that the data is normalized\n"
   ]
  },
  {
   "cell_type": "code",
   "execution_count": 5,
   "metadata": {},
   "outputs": [],
   "source": [
    "# Functions for embeddings\n",
    "\n",
    "# Euclidean mixture embedding:\n",
    "def get_euc_mix(ndim):\n",
    "    otu_embeddings = pd.read_csv(\n",
    "        f\"/data/phil/otu_embeddings/embeddings_euclidean_{ndim}.csv\",\n",
    "        dtype={0: str},\n",
    "    )\n",
    "    otu_embeddings = otu_embeddings.set_index(otu_embeddings.columns[0])\n",
    "\n",
    "    return get_mixture_embeddings(\n",
    "        otu_table_df=adata_df,\n",
    "        otu_embeddings_df=otu_embeddings.loc[adata_df.columns],\n",
    "        space=\"euclidean\",\n",
    "        embedding_size=ndim,\n",
    "        return_percent_converged=False,\n",
    "        fmean_model=None,\n",
    "        mode=None,\n",
    "    )\n",
    "\n",
    "\n",
    "# PCA:\n",
    "def get_pca(ndim):\n",
    "    ndim = np.min([ndim, adata.shape[0]])\n",
    "    pca = PCA(n_components=ndim)\n",
    "    return pca.fit_transform(adata.X.toarray())\n",
    "\n",
    "\n",
    "# Hyperbolic mixture embedding:\n",
    "def get_hyp_mix(ndim):\n",
    "    otu_embeddings = pd.read_csv(\n",
    "        f\"/data/phil/otu_embeddings/embeddings_hyperbolic_{ndim}.csv\",\n",
    "        dtype={0: str},\n",
    "    )\n",
    "    otu_embeddings = otu_embeddings.set_index(otu_embeddings.columns[0])\n",
    "\n",
    "    return get_mixture_embeddings(\n",
    "        otu_table_df=adata_df,\n",
    "        otu_embeddings_df=otu_embeddings.loc[adata_df.columns],\n",
    "        embedding_size=ndim,\n",
    "        space=\"hyperbolic\",\n",
    "        fmean_model=\"hyperboloid\",\n",
    "        mode=\"manual\",\n",
    "        return_percent_converged=False,\n",
    "        convert_back=False,\n",
    "        n_jobs=-1,\n",
    "    )\n"
   ]
  },
  {
   "cell_type": "code",
   "execution_count": 25,
   "metadata": {},
   "outputs": [
    {
     "name": "stdout",
     "output_type": "stream",
     "text": [
      "2\n"
     ]
    },
    {
     "name": "stderr",
     "output_type": "stream",
     "text": [
      "  0%|          | 12/32608 [00:00<20:58, 25.91it/s]INFO: Using numpy backend\n",
      "INFO: Using numpy backend\n",
      "INFO: Using numpy backend\n",
      "INFO: Using numpy backend\n",
      "INFO: Using numpy backend\n",
      "INFO: Using numpy backend\n",
      "INFO: Using numpy backend\n",
      "INFO: Using numpy backend\n",
      "INFO: Using numpy backend\n",
      "INFO: Using numpy backend\n",
      "INFO: Using numpy backend\n",
      "INFO: Using numpy backend\n"
     ]
    }
   ],
   "source": [
    "# for ndim in [2, 4, 8, 16, 32, 64, 128]:\n",
    "# for ndim in [64, 128]:\n",
    "for ndim in [2]:\n",
    "    print(ndim)\n",
    "    # print(\"\\teuc\")\n",
    "    # adata.obsm[f\"euc_mix_{ndim}\"] = get_euc_mix(ndim)\n",
    "    # print(\"\\tpca\")\n",
    "    # adata.obsm[f\"pca_{ndim}\"] = get_pca(ndim)\n",
    "    # print(\"\\thyp\")\n",
    "    hyp_me = get_hyp_mix(ndim)\n",
    "    adata.obsm[f\"hyp_mix_{ndim}\"] = hyp_me\n",
    "    adata.obsm[f\"poi_mix_{ndim}\"] = np.array([\n",
    "        convert_geometry_after(\"hyperboloid\", \"poincare\", x) for x in hyp_me.values\n",
    "    ])\n"
   ]
  },
  {
   "cell_type": "code",
   "execution_count": 24,
   "metadata": {},
   "outputs": [
    {
     "data": {
      "text/plain": [
       "array([[-0.83642154,  0.54526037],\n",
       "       [-0.83642015,  0.5452597 ],\n",
       "       [-0.83641783,  0.54525875],\n",
       "       ...,\n",
       "       [-0.83644775,  0.54527655],\n",
       "       [-0.83661565,  0.54541006],\n",
       "       [-0.836497  ,  0.54531285]])"
      ]
     },
     "execution_count": 24,
     "metadata": {},
     "output_type": "execute_result"
    }
   ],
   "source": [
    "np.array([\n",
    "        convert_geometry_after(\"hyperboloid\", \"poincare\", x) for x in hyp_me.values\n",
    "    ])\n"
   ]
  },
  {
   "cell_type": "code",
   "execution_count": 21,
   "metadata": {},
   "outputs": [
    {
     "data": {
      "text/html": [
       "<div>\n",
       "<style scoped>\n",
       "    .dataframe tbody tr th:only-of-type {\n",
       "        vertical-align: middle;\n",
       "    }\n",
       "\n",
       "    .dataframe tbody tr th {\n",
       "        vertical-align: top;\n",
       "    }\n",
       "\n",
       "    .dataframe thead th {\n",
       "        text-align: right;\n",
       "    }\n",
       "</style>\n",
       "<table border=\"1\" class=\"dataframe\">\n",
       "  <thead>\n",
       "    <tr style=\"text-align: right;\">\n",
       "      <th></th>\n",
       "      <th>0</th>\n",
       "      <th>1</th>\n",
       "      <th>2</th>\n",
       "    </tr>\n",
       "    <tr>\n",
       "      <th>Sample</th>\n",
       "      <th></th>\n",
       "      <th></th>\n",
       "      <th></th>\n",
       "    </tr>\n",
       "  </thead>\n",
       "  <tbody>\n",
       "    <tr>\n",
       "      <th>10317.X00179385</th>\n",
       "      <td>-541.350676</td>\n",
       "      <td>352.904673</td>\n",
       "      <td>646.222302</td>\n",
       "    </tr>\n",
       "    <tr>\n",
       "      <th>10317.X00179004</th>\n",
       "      <td>-540.813092</td>\n",
       "      <td>352.554374</td>\n",
       "      <td>645.580659</td>\n",
       "    </tr>\n",
       "    <tr>\n",
       "      <th>10317.X00179030</th>\n",
       "      <td>-539.953431</td>\n",
       "      <td>351.994327</td>\n",
       "      <td>644.554663</td>\n",
       "    </tr>\n",
       "    <tr>\n",
       "      <th>10317.X00179108</th>\n",
       "      <td>-534.287511</td>\n",
       "      <td>348.300642</td>\n",
       "      <td>637.791096</td>\n",
       "    </tr>\n",
       "    <tr>\n",
       "      <th>10317.X00179203</th>\n",
       "      <td>-547.397319</td>\n",
       "      <td>356.846750</td>\n",
       "      <td>653.440455</td>\n",
       "    </tr>\n",
       "    <tr>\n",
       "      <th>...</th>\n",
       "      <td>...</td>\n",
       "      <td>...</td>\n",
       "      <td>...</td>\n",
       "    </tr>\n",
       "    <tr>\n",
       "      <th>10317.BLANK226.6C</th>\n",
       "      <td>-541.316613</td>\n",
       "      <td>352.882273</td>\n",
       "      <td>646.181533</td>\n",
       "    </tr>\n",
       "    <tr>\n",
       "      <th>10317.BLANK227.7A</th>\n",
       "      <td>-531.474640</td>\n",
       "      <td>346.467172</td>\n",
       "      <td>634.433443</td>\n",
       "    </tr>\n",
       "    <tr>\n",
       "      <th>10317.BLANK227.7D</th>\n",
       "      <td>-552.356676</td>\n",
       "      <td>360.078848</td>\n",
       "      <td>659.360049</td>\n",
       "    </tr>\n",
       "    <tr>\n",
       "      <th>10317.BLANK228.8C</th>\n",
       "      <td>-643.025661</td>\n",
       "      <td>419.204040</td>\n",
       "      <td>767.603431</td>\n",
       "    </tr>\n",
       "    <tr>\n",
       "      <th>10317.000089609</th>\n",
       "      <td>-575.570915</td>\n",
       "      <td>375.214993</td>\n",
       "      <td>687.072900</td>\n",
       "    </tr>\n",
       "  </tbody>\n",
       "</table>\n",
       "<p>32608 rows × 3 columns</p>\n",
       "</div>"
      ],
      "text/plain": [
       "                            0           1           2\n",
       "Sample                                               \n",
       "10317.X00179385   -541.350676  352.904673  646.222302\n",
       "10317.X00179004   -540.813092  352.554374  645.580659\n",
       "10317.X00179030   -539.953431  351.994327  644.554663\n",
       "10317.X00179108   -534.287511  348.300642  637.791096\n",
       "10317.X00179203   -547.397319  356.846750  653.440455\n",
       "...                       ...         ...         ...\n",
       "10317.BLANK226.6C -541.316613  352.882273  646.181533\n",
       "10317.BLANK227.7A -531.474640  346.467172  634.433443\n",
       "10317.BLANK227.7D -552.356676  360.078848  659.360049\n",
       "10317.BLANK228.8C -643.025661  419.204040  767.603431\n",
       "10317.000089609   -575.570915  375.214993  687.072900\n",
       "\n",
       "[32608 rows x 3 columns]"
      ]
     },
     "execution_count": 21,
     "metadata": {},
     "output_type": "execute_result"
    }
   ],
   "source": [
    "hyp_me"
   ]
  },
  {
   "cell_type": "code",
   "execution_count": 12,
   "metadata": {},
   "outputs": [
    {
     "data": {
      "text/plain": [
       "array([[0.94218253, 0.9380399 , 0.93917709],\n",
       "       [0.9412469 , 0.93710878, 0.93824457],\n",
       "       [0.93975072, 0.93562015, 0.93675345],\n",
       "       ...,\n",
       "       [0.92499398, 0.92092867, 0.92204393],\n",
       "       [0.96133769, 0.95710924, 0.95827063],\n",
       "       [1.11914064, 1.11426723, 1.11558446]])"
      ]
     },
     "execution_count": 12,
     "metadata": {},
     "output_type": "execute_result"
    }
   ],
   "source": [
    "convert_geometry_after(\n",
    "    \"hyperboloid\", \"poincare\", hyp_me.values\n",
    ")"
   ]
  },
  {
   "cell_type": "code",
   "execution_count": 19,
   "metadata": {},
   "outputs": [
    {
     "data": {
      "text/plain": [
       "array([-0.83642154,  0.54526037])"
      ]
     },
     "execution_count": 19,
     "metadata": {},
     "output_type": "execute_result"
    }
   ],
   "source": [
    "from src.embeddings.frechet_mean_manual import to_poincare_ball_point\n",
    "\n",
    "to_poincare_ball_point(hyp_me.values[0])"
   ]
  },
  {
   "cell_type": "code",
   "execution_count": null,
   "metadata": {},
   "outputs": [],
   "source": [
    "def to_poincare_ball_point(hyperboloid_pt):\n",
    "    \"\"\"\n",
    "    Project the point of the hyperboloid onto the Poincaré ball.\n",
    "    Post: len(result) == len(hyperboloid_pt) - 1\n",
    "    \n",
    "    The last coordinate is the special coordinate\n",
    "    \"\"\"\n",
    "    N = len(hyperboloid_pt) - 1\n",
    "    return hyperboloid_pt[:N] / (hyperboloid_pt[N] + 1)\n"
   ]
  },
  {
   "cell_type": "code",
   "execution_count": 18,
   "metadata": {},
   "outputs": [
    {
     "ename": "KeyError",
     "evalue": "(0, slice(None, 2, None))",
     "output_type": "error",
     "traceback": [
      "\u001b[0;31m---------------------------------------------------------------------------\u001b[0m",
      "\u001b[0;31mKeyError\u001b[0m                                  Traceback (most recent call last)",
      "Cell \u001b[0;32mIn[18], line 1\u001b[0m\n\u001b[0;32m----> 1\u001b[0m hyp_me[\u001b[39m0\u001b[39m,:\u001b[39m2\u001b[39m]\n",
      "File \u001b[0;32m~/mambaforge/envs/americangut/lib/python3.11/site-packages/pandas/core/frame.py:3761\u001b[0m, in \u001b[0;36mDataFrame.__getitem__\u001b[0;34m(self, key)\u001b[0m\n\u001b[1;32m   3759\u001b[0m \u001b[39mif\u001b[39;00m \u001b[39mself\u001b[39m\u001b[39m.\u001b[39mcolumns\u001b[39m.\u001b[39mnlevels \u001b[39m>\u001b[39m \u001b[39m1\u001b[39m:\n\u001b[1;32m   3760\u001b[0m     \u001b[39mreturn\u001b[39;00m \u001b[39mself\u001b[39m\u001b[39m.\u001b[39m_getitem_multilevel(key)\n\u001b[0;32m-> 3761\u001b[0m indexer \u001b[39m=\u001b[39m \u001b[39mself\u001b[39m\u001b[39m.\u001b[39mcolumns\u001b[39m.\u001b[39mget_loc(key)\n\u001b[1;32m   3762\u001b[0m \u001b[39mif\u001b[39;00m is_integer(indexer):\n\u001b[1;32m   3763\u001b[0m     indexer \u001b[39m=\u001b[39m [indexer]\n",
      "File \u001b[0;32m~/mambaforge/envs/americangut/lib/python3.11/site-packages/pandas/core/indexes/range.py:349\u001b[0m, in \u001b[0;36mRangeIndex.get_loc\u001b[0;34m(self, key)\u001b[0m\n\u001b[1;32m    347\u001b[0m         \u001b[39mraise\u001b[39;00m \u001b[39mKeyError\u001b[39;00m(key) \u001b[39mfrom\u001b[39;00m \u001b[39merr\u001b[39;00m\n\u001b[1;32m    348\u001b[0m \u001b[39mif\u001b[39;00m \u001b[39misinstance\u001b[39m(key, Hashable):\n\u001b[0;32m--> 349\u001b[0m     \u001b[39mraise\u001b[39;00m \u001b[39mKeyError\u001b[39;00m(key)\n\u001b[1;32m    350\u001b[0m \u001b[39mself\u001b[39m\u001b[39m.\u001b[39m_check_indexing_error(key)\n\u001b[1;32m    351\u001b[0m \u001b[39mraise\u001b[39;00m \u001b[39mKeyError\u001b[39;00m(key)\n",
      "\u001b[0;31mKeyError\u001b[0m: (0, slice(None, 2, None))"
     ]
    }
   ],
   "source": [
    "hyp_me[0,:2]"
   ]
  },
  {
   "cell_type": "code",
   "execution_count": null,
   "metadata": {},
   "outputs": [],
   "source": [
    "adata.X = adata.X.tocsr()\n",
    "for embedding in adata.obsm.keys():\n",
    "    if type(adata.obsm[embedding]) == pd.DataFrame:\n",
    "        adata.obsm[embedding] = adata.obsm[embedding].values\n",
    "\n",
    "adata.write_h5ad(\"data/big_table_with_embeddings_upto_128.h5ad\")\n"
   ]
  },
  {
   "cell_type": "code",
   "execution_count": null,
   "metadata": {},
   "outputs": [
    {
     "data": {
      "text/plain": [
       "KeysView(AxisArrays with keys: euc_mix_2, pca_2, hyp_mix_2, poi_mix_2, euc_mix_4, pca_4, hyp_mix_4, poi_mix_4, euc_mix_8, pca_8, hyp_mix_8, poi_mix_8, euc_mix_16, pca_16, hyp_mix_16, poi_mix_16, euc_mix_32, pca_32, hyp_mix_32, poi_mix_32, euc_mix_64, pca_64, hyp_mix_64, poi_mix_64, euc_mix_128, pca_128, hyp_mix_128, poi_mix_128)"
      ]
     },
     "execution_count": 22,
     "metadata": {},
     "output_type": "execute_result"
    }
   ],
   "source": [
    "adata.obsm.keys()"
   ]
  },
  {
   "cell_type": "code",
   "execution_count": null,
   "metadata": {},
   "outputs": [],
   "source": []
  }
 ],
 "metadata": {
  "kernelspec": {
   "display_name": "americangut",
   "language": "python",
   "name": "python3"
  },
  "language_info": {
   "codemirror_mode": {
    "name": "ipython",
    "version": 3
   },
   "file_extension": ".py",
   "mimetype": "text/x-python",
   "name": "python",
   "nbconvert_exporter": "python",
   "pygments_lexer": "ipython3",
   "version": "3.11.3"
  },
  "orig_nbformat": 4
 },
 "nbformat": 4,
 "nbformat_minor": 2
}
