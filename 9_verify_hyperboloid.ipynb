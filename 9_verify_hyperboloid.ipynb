{
 "cells": [
  {
   "cell_type": "markdown",
   "metadata": {},
   "source": [
    "# Verify hyperboloid\n",
    "> Is the hyperboloid projection script doing what it should?"
   ]
  },
  {
   "cell_type": "code",
   "execution_count": 3,
   "metadata": {},
   "outputs": [],
   "source": [
    "%load_ext autoreload\n",
    "%autoreload 2"
   ]
  },
  {
   "cell_type": "code",
   "execution_count": 4,
   "metadata": {},
   "outputs": [
    {
     "name": "stderr",
     "output_type": "stream",
     "text": [
      "INFO: Using numpy backend\n"
     ]
    }
   ],
   "source": [
    "import sys\n",
    "import numpy as np\n",
    "\n",
    "sys.path.append(\"/home/phil/mixture_embeddings\")\n",
    "from src.embeddings.mixture_embeddings import (\n",
    "    get_mixture_embeddings,\n",
    "    convert_geometry_after,\n",
    ")\n"
   ]
  },
  {
   "cell_type": "code",
   "execution_count": 5,
   "metadata": {},
   "outputs": [],
   "source": [
    "# Rejection sample some points from 6-D poincare disk\n",
    "\n",
    "points = np.random.rand(100000, 6)\n",
    "mask = np.sum(points ** 2, axis=1) < 1\n",
    "points = points[mask]\n",
    "\n",
    "# Convert to hyperboloid\n",
    "def to_hyperboloid_points(poincare_pts):\n",
    "    \"\"\"\n",
    "    Post: result.shape[1] == poincare_pts.shape[1] + 1\n",
    "    \"\"\"\n",
    "    norm_sqd = (poincare_pts ** 2).sum(axis=1)\n",
    "    N = poincare_pts.shape[1]\n",
    "    result = np.zeros((poincare_pts.shape[0], N + 1), dtype=np.float64)\n",
    "    result[:, :N] = (2.0 / (1 - norm_sqd))[:, np.newaxis] * poincare_pts\n",
    "    result[:, N] = (1 + norm_sqd) / (1 - norm_sqd)\n",
    "    return result\n",
    "\n",
    "\n",
    "hyperboloid_points = to_hyperboloid_points(points)\n"
   ]
  },
  {
   "cell_type": "code",
   "execution_count": 6,
   "metadata": {},
   "outputs": [
    {
     "data": {
      "text/plain": [
       "(8039, 7)"
      ]
     },
     "execution_count": 6,
     "metadata": {},
     "output_type": "execute_result"
    }
   ],
   "source": [
    "# Assert 7-dimensional\n",
    "\n",
    "hyperboloid_points.shape\n"
   ]
  },
  {
   "cell_type": "code",
   "execution_count": 7,
   "metadata": {},
   "outputs": [
    {
     "data": {
      "text/plain": [
       "array([-1., -1., -1., ..., -1., -1., -1.])"
      ]
     },
     "execution_count": 7,
     "metadata": {},
     "output_type": "execute_result"
    }
   ],
   "source": [
    "# Assert Q(x) = -1 for all x in X\n",
    "\n",
    "\n",
    "def minkowski_norm(hyperboloid_pts):\n",
    "    \"\"\"\n",
    "    Compute Minkowski norm for points in the hyperboloid model.\n",
    "    \"\"\"\n",
    "    N = hyperboloid_pts.shape[1] - 1\n",
    "    return (\n",
    "        np.sum(hyperboloid_pts[:, :N] ** 2, axis=1) - hyperboloid_pts[:, N] ** 2\n",
    "    )\n",
    "\n",
    "\n",
    "minkowski_norm(hyperboloid_points)\n"
   ]
  },
  {
   "cell_type": "code",
   "execution_count": 8,
   "metadata": {},
   "outputs": [],
   "source": [
    "# Great, that worked. Do our mixture embeddings follow this?\n",
    "\n",
    "import anndata\n",
    "\n",
    "adata = anndata.read_h5ad(\"data/big_table_with_embeddings.h5ad\")\n"
   ]
  },
  {
   "cell_type": "code",
   "execution_count": 13,
   "metadata": {},
   "outputs": [
    {
     "name": "stdout",
     "output_type": "stream",
     "text": [
      "hyp_mix_128\t129\t-1.0000000000000016\t-0.9999999999999984\tTrue\n",
      "hyp_mix_16\t17\t-1.0000000000000016\t-0.9999999999999986\tTrue\n",
      "hyp_mix_2\t3\t-1.0000000002910383\t-0.9999999997671694\tTrue\n",
      "hyp_mix_2_PAC\t2\t-0.9977814849190494\t0.9979777817533649\tFalse\n",
      "hyp_mix_32\t33\t-1.0000000000000016\t-0.9999999999999984\tTrue\n",
      "hyp_mix_4\t5\t-1.0000000000022737\t-0.9999999999972715\tTrue\n",
      "hyp_mix_64\t65\t-1.0000000000000016\t-0.9999999999999984\tTrue\n",
      "hyp_mix_8\t9\t-1.0000000000000355\t-0.9999999999999645\tTrue\n"
     ]
    }
   ],
   "source": [
    "# Frechet means don't break this - that's good. However, I messed up the index\n",
    "# so I need to redo everything with time-like dimension LAST.\n",
    "\n",
    "for key in adata.obsm:\n",
    "    if str(key).startswith(\"hyp\"):\n",
    "        norms = minkowski_norm(adata.obsm[key])\n",
    "        print(\n",
    "            key,\n",
    "            adata.obsm[key].shape[1],\n",
    "            np.min(norms),\n",
    "            np.max(norms),\n",
    "            np.allclose(norms, -1.0),\n",
    "            sep=\"\\t\",\n",
    "        )\n"
   ]
  },
  {
   "cell_type": "code",
   "execution_count": null,
   "metadata": {},
   "outputs": [],
   "source": []
  }
 ],
 "metadata": {
  "kernelspec": {
   "display_name": "americangut",
   "language": "python",
   "name": "python3"
  },
  "language_info": {
   "codemirror_mode": {
    "name": "ipython",
    "version": 3
   },
   "file_extension": ".py",
   "mimetype": "text/x-python",
   "name": "python",
   "nbconvert_exporter": "python",
   "pygments_lexer": "ipython3",
   "version": "3.11.3"
  },
  "orig_nbformat": 4
 },
 "nbformat": 4,
 "nbformat_minor": 2
}
